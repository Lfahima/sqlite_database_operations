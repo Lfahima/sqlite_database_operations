{
  "nbformat": 4,
  "nbformat_minor": 0,
  "metadata": {
    "colab": {
      "provenance": [],
      "authorship_tag": "ABX9TyOgobid1j4MOBynusr++V8r",
      "include_colab_link": true
    },
    "kernelspec": {
      "name": "python3",
      "display_name": "Python 3"
    },
    "language_info": {
      "name": "python"
    }
  },
  "cells": [
    {
      "cell_type": "markdown",
      "metadata": {
        "id": "view-in-github",
        "colab_type": "text"
      },
      "source": [
        "<a href=\"https://colab.research.google.com/github/Lfahima/sqlite_database_operations/blob/main/HHA_504_Assignment3_pynb.ipynb\" target=\"_parent\"><img src=\"https://colab.research.google.com/assets/colab-badge.svg\" alt=\"Open In Colab\"/></a>"
      ]
    },
    {
      "cell_type": "code",
      "source": [
        "import pandas as pd\n",
        "import json\n",
        "import matplotlib.pyplot as plt\n",
        "import numpy as np\n",
        "import sqlite3"
      ],
      "metadata": {
        "id": "Cg_mJvqB0Mb-"
      },
      "execution_count": 143,
      "outputs": []
    },
    {
      "cell_type": "code",
      "source": [
        "SB_df = pd.read_csv('stonybrook.csv')\n",
        "SB_df.head(10)"
      ],
      "metadata": {
        "colab": {
          "base_uri": "https://localhost:8080/",
          "height": 1000
        },
        "id": "nTrN0z_LCSSJ",
        "outputId": "c63cee9e-3a4f-4726-d4b5-12f474c24ee8"
      },
      "execution_count": 144,
      "outputs": [
        {
          "output_type": "execute_result",
          "data": {
            "text/plain": [
              "    Code                                        Description        Type  \\\n",
              "0  10004  FINE NEEDLE ASPIRATION BIOPSY, EACH ADDITIONAL...  Outpatient   \n",
              "1  10005  FINE NEEDLE ASPIRATION BIOPSY USING ULTRASOUND...  Outpatient   \n",
              "2  10005  FINE NEEDLE ASPIRATION BIOPSY USING ULTRASOUND...  Outpatient   \n",
              "3  10006  FINE NEEDLE ASPIRATION BIOPSY USING ULTRASOUND...  Outpatient   \n",
              "4  10009  FINE NEEDLE ASPIRATION BIOPSY OF GROWTH USING ...  Outpatient   \n",
              "5  10009  FINE NEEDLE ASPIRATION BIOPSY OF GROWTH USING ...  Outpatient   \n",
              "6  10010  FINE NEEDLE ASPIRATION BIOPSY OF GROWTH USING ...  Outpatient   \n",
              "7  10021        FINE NEEDLE ASPIRATION BIOPSY, FIRST GROWTH  Outpatient   \n",
              "8  10021        FINE NEEDLE ASPIRATION BIOPSY, FIRST GROWTH  Outpatient   \n",
              "9  10030  DRAINAGE OF FLUID COLLECTION IN SOFT TISSUE US...  Outpatient   \n",
              "\n",
              "  Package/Line_Level  Gross charge  Discounted cash price  \\\n",
              "0               Line        718.67                 718.67   \n",
              "1               Line       2061.25                2061.25   \n",
              "2            Package       2061.25                2061.25   \n",
              "3               Line        728.54                 728.54   \n",
              "4               Line       2823.01                2823.01   \n",
              "5            Package       2823.01                2823.01   \n",
              "6               Line        588.00                 588.00   \n",
              "7               Line       1566.78                1566.78   \n",
              "8            Package       1566.78                1566.78   \n",
              "9               Line       2082.05                2082.05   \n",
              "\n",
              "   De-identified min contracted rate  De-identified max contracted rate  \\\n",
              "0                            2155.50                            2155.50   \n",
              "1                              87.02                            4782.00   \n",
              "2                              87.02                            4782.00   \n",
              "3                              58.55                            1761.25   \n",
              "4                             446.28                            6017.59   \n",
              "5                             446.28                            6017.59   \n",
              "6                            2155.50                            2155.50   \n",
              "7                             275.46                            2265.50   \n",
              "8                             275.46                            2265.50   \n",
              "9                             152.66                            4101.00   \n",
              "\n",
              "   Derived contracted rate  1199-Commercial other  ...  \\\n",
              "0                  2155.50                    NaN  ...   \n",
              "1                  2308.44                 2411.0  ...   \n",
              "2                  2308.44                 2411.0  ...   \n",
              "3                   909.90                    NaN  ...   \n",
              "4                  4219.31                 4592.0  ...   \n",
              "5                  4219.31                 4592.0  ...   \n",
              "6                  2155.50                    NaN  ...   \n",
              "7                  1270.48                    NaN  ...   \n",
              "8                  1270.48                    NaN  ...   \n",
              "9                  1663.85                    NaN  ...   \n",
              "\n",
              "   Optum-Commercial other  Oxford-Commercial other  Oxford-Commercial HMO/POS  \\\n",
              "0                     NaN                      NaN                        NaN   \n",
              "1                     NaN                   4782.0                        NaN   \n",
              "2                     NaN                   4782.0                        NaN   \n",
              "3                     NaN                      NaN                        NaN   \n",
              "4                     NaN                      NaN                        NaN   \n",
              "5                     NaN                      NaN                        NaN   \n",
              "6                     NaN                      NaN                        NaN   \n",
              "7                     NaN                      NaN                        NaN   \n",
              "8                     NaN                      NaN                        NaN   \n",
              "9                     NaN                      NaN                        NaN   \n",
              "\n",
              "   Tricare-Commercial other  United Healthcare-Commercial other  \\\n",
              "0                       NaN                                 NaN   \n",
              "1                       NaN                             3845.25   \n",
              "2                       NaN                             3845.25   \n",
              "3                       NaN                                 NaN   \n",
              "4                       NaN                             5127.00   \n",
              "5                       NaN                             5127.00   \n",
              "6                       NaN                                 NaN   \n",
              "7                       NaN                                 NaN   \n",
              "8                       NaN                                 NaN   \n",
              "9                       NaN                                 NaN   \n",
              "\n",
              "   United Healthcare-Medicare Advantage HMO  \\\n",
              "0                                       NaN   \n",
              "1                                       NaN   \n",
              "2                                       NaN   \n",
              "3                                       NaN   \n",
              "4                                       NaN   \n",
              "5                                       NaN   \n",
              "6                                       NaN   \n",
              "7                                       NaN   \n",
              "8                                       NaN   \n",
              "9                                       NaN   \n",
              "\n",
              "   United Healthcare-Commercial HMO/POS  United Healthcare-Medicaid HMO  \\\n",
              "0                                   NaN                             NaN   \n",
              "1                                   NaN                          658.94   \n",
              "2                                   NaN                          658.94   \n",
              "3                                   NaN                             NaN   \n",
              "4                                   NaN                             NaN   \n",
              "5                                   NaN                             NaN   \n",
              "6                                   NaN                             NaN   \n",
              "7                                   NaN                             NaN   \n",
              "8                                   NaN                             NaN   \n",
              "9                                   NaN                             NaN   \n",
              "\n",
              "   United Healthcare-Commercial PPO/Open Access  \\\n",
              "0                                           NaN   \n",
              "1                                           NaN   \n",
              "2                                           NaN   \n",
              "3                                           NaN   \n",
              "4                                           NaN   \n",
              "5                                           NaN   \n",
              "6                                           NaN   \n",
              "7                                           NaN   \n",
              "8                                           NaN   \n",
              "9                                           NaN   \n",
              "\n",
              "   Veteran Family-Commercial other  \n",
              "0                              NaN  \n",
              "1                              NaN  \n",
              "2                              NaN  \n",
              "3                              NaN  \n",
              "4                              NaN  \n",
              "5                              NaN  \n",
              "6                              NaN  \n",
              "7                              NaN  \n",
              "8                              NaN  \n",
              "9                              NaN  \n",
              "\n",
              "[10 rows x 57 columns]"
            ],
            "text/html": [
              "\n",
              "  <div id=\"df-bfc467ee-0cb8-4223-93a3-452fb728700b\" class=\"colab-df-container\">\n",
              "    <div>\n",
              "<style scoped>\n",
              "    .dataframe tbody tr th:only-of-type {\n",
              "        vertical-align: middle;\n",
              "    }\n",
              "\n",
              "    .dataframe tbody tr th {\n",
              "        vertical-align: top;\n",
              "    }\n",
              "\n",
              "    .dataframe thead th {\n",
              "        text-align: right;\n",
              "    }\n",
              "</style>\n",
              "<table border=\"1\" class=\"dataframe\">\n",
              "  <thead>\n",
              "    <tr style=\"text-align: right;\">\n",
              "      <th></th>\n",
              "      <th>Code</th>\n",
              "      <th>Description</th>\n",
              "      <th>Type</th>\n",
              "      <th>Package/Line_Level</th>\n",
              "      <th>Gross charge</th>\n",
              "      <th>Discounted cash price</th>\n",
              "      <th>De-identified min contracted rate</th>\n",
              "      <th>De-identified max contracted rate</th>\n",
              "      <th>Derived contracted rate</th>\n",
              "      <th>1199-Commercial other</th>\n",
              "      <th>...</th>\n",
              "      <th>Optum-Commercial other</th>\n",
              "      <th>Oxford-Commercial other</th>\n",
              "      <th>Oxford-Commercial HMO/POS</th>\n",
              "      <th>Tricare-Commercial other</th>\n",
              "      <th>United Healthcare-Commercial other</th>\n",
              "      <th>United Healthcare-Medicare Advantage HMO</th>\n",
              "      <th>United Healthcare-Commercial HMO/POS</th>\n",
              "      <th>United Healthcare-Medicaid HMO</th>\n",
              "      <th>United Healthcare-Commercial PPO/Open Access</th>\n",
              "      <th>Veteran Family-Commercial other</th>\n",
              "    </tr>\n",
              "  </thead>\n",
              "  <tbody>\n",
              "    <tr>\n",
              "      <th>0</th>\n",
              "      <td>10004</td>\n",
              "      <td>FINE NEEDLE ASPIRATION BIOPSY, EACH ADDITIONAL...</td>\n",
              "      <td>Outpatient</td>\n",
              "      <td>Line</td>\n",
              "      <td>718.67</td>\n",
              "      <td>718.67</td>\n",
              "      <td>2155.50</td>\n",
              "      <td>2155.50</td>\n",
              "      <td>2155.50</td>\n",
              "      <td>NaN</td>\n",
              "      <td>...</td>\n",
              "      <td>NaN</td>\n",
              "      <td>NaN</td>\n",
              "      <td>NaN</td>\n",
              "      <td>NaN</td>\n",
              "      <td>NaN</td>\n",
              "      <td>NaN</td>\n",
              "      <td>NaN</td>\n",
              "      <td>NaN</td>\n",
              "      <td>NaN</td>\n",
              "      <td>NaN</td>\n",
              "    </tr>\n",
              "    <tr>\n",
              "      <th>1</th>\n",
              "      <td>10005</td>\n",
              "      <td>FINE NEEDLE ASPIRATION BIOPSY USING ULTRASOUND...</td>\n",
              "      <td>Outpatient</td>\n",
              "      <td>Line</td>\n",
              "      <td>2061.25</td>\n",
              "      <td>2061.25</td>\n",
              "      <td>87.02</td>\n",
              "      <td>4782.00</td>\n",
              "      <td>2308.44</td>\n",
              "      <td>2411.0</td>\n",
              "      <td>...</td>\n",
              "      <td>NaN</td>\n",
              "      <td>4782.0</td>\n",
              "      <td>NaN</td>\n",
              "      <td>NaN</td>\n",
              "      <td>3845.25</td>\n",
              "      <td>NaN</td>\n",
              "      <td>NaN</td>\n",
              "      <td>658.94</td>\n",
              "      <td>NaN</td>\n",
              "      <td>NaN</td>\n",
              "    </tr>\n",
              "    <tr>\n",
              "      <th>2</th>\n",
              "      <td>10005</td>\n",
              "      <td>FINE NEEDLE ASPIRATION BIOPSY USING ULTRASOUND...</td>\n",
              "      <td>Outpatient</td>\n",
              "      <td>Package</td>\n",
              "      <td>2061.25</td>\n",
              "      <td>2061.25</td>\n",
              "      <td>87.02</td>\n",
              "      <td>4782.00</td>\n",
              "      <td>2308.44</td>\n",
              "      <td>2411.0</td>\n",
              "      <td>...</td>\n",
              "      <td>NaN</td>\n",
              "      <td>4782.0</td>\n",
              "      <td>NaN</td>\n",
              "      <td>NaN</td>\n",
              "      <td>3845.25</td>\n",
              "      <td>NaN</td>\n",
              "      <td>NaN</td>\n",
              "      <td>658.94</td>\n",
              "      <td>NaN</td>\n",
              "      <td>NaN</td>\n",
              "    </tr>\n",
              "    <tr>\n",
              "      <th>3</th>\n",
              "      <td>10006</td>\n",
              "      <td>FINE NEEDLE ASPIRATION BIOPSY USING ULTRASOUND...</td>\n",
              "      <td>Outpatient</td>\n",
              "      <td>Line</td>\n",
              "      <td>728.54</td>\n",
              "      <td>728.54</td>\n",
              "      <td>58.55</td>\n",
              "      <td>1761.25</td>\n",
              "      <td>909.90</td>\n",
              "      <td>NaN</td>\n",
              "      <td>...</td>\n",
              "      <td>NaN</td>\n",
              "      <td>NaN</td>\n",
              "      <td>NaN</td>\n",
              "      <td>NaN</td>\n",
              "      <td>NaN</td>\n",
              "      <td>NaN</td>\n",
              "      <td>NaN</td>\n",
              "      <td>NaN</td>\n",
              "      <td>NaN</td>\n",
              "      <td>NaN</td>\n",
              "    </tr>\n",
              "    <tr>\n",
              "      <th>4</th>\n",
              "      <td>10009</td>\n",
              "      <td>FINE NEEDLE ASPIRATION BIOPSY OF GROWTH USING ...</td>\n",
              "      <td>Outpatient</td>\n",
              "      <td>Line</td>\n",
              "      <td>2823.01</td>\n",
              "      <td>2823.01</td>\n",
              "      <td>446.28</td>\n",
              "      <td>6017.59</td>\n",
              "      <td>4219.31</td>\n",
              "      <td>4592.0</td>\n",
              "      <td>...</td>\n",
              "      <td>NaN</td>\n",
              "      <td>NaN</td>\n",
              "      <td>NaN</td>\n",
              "      <td>NaN</td>\n",
              "      <td>5127.00</td>\n",
              "      <td>NaN</td>\n",
              "      <td>NaN</td>\n",
              "      <td>NaN</td>\n",
              "      <td>NaN</td>\n",
              "      <td>NaN</td>\n",
              "    </tr>\n",
              "    <tr>\n",
              "      <th>5</th>\n",
              "      <td>10009</td>\n",
              "      <td>FINE NEEDLE ASPIRATION BIOPSY OF GROWTH USING ...</td>\n",
              "      <td>Outpatient</td>\n",
              "      <td>Package</td>\n",
              "      <td>2823.01</td>\n",
              "      <td>2823.01</td>\n",
              "      <td>446.28</td>\n",
              "      <td>6017.59</td>\n",
              "      <td>4219.31</td>\n",
              "      <td>4592.0</td>\n",
              "      <td>...</td>\n",
              "      <td>NaN</td>\n",
              "      <td>NaN</td>\n",
              "      <td>NaN</td>\n",
              "      <td>NaN</td>\n",
              "      <td>5127.00</td>\n",
              "      <td>NaN</td>\n",
              "      <td>NaN</td>\n",
              "      <td>NaN</td>\n",
              "      <td>NaN</td>\n",
              "      <td>NaN</td>\n",
              "    </tr>\n",
              "    <tr>\n",
              "      <th>6</th>\n",
              "      <td>10010</td>\n",
              "      <td>FINE NEEDLE ASPIRATION BIOPSY OF GROWTH USING ...</td>\n",
              "      <td>Outpatient</td>\n",
              "      <td>Line</td>\n",
              "      <td>588.00</td>\n",
              "      <td>588.00</td>\n",
              "      <td>2155.50</td>\n",
              "      <td>2155.50</td>\n",
              "      <td>2155.50</td>\n",
              "      <td>NaN</td>\n",
              "      <td>...</td>\n",
              "      <td>NaN</td>\n",
              "      <td>NaN</td>\n",
              "      <td>NaN</td>\n",
              "      <td>NaN</td>\n",
              "      <td>NaN</td>\n",
              "      <td>NaN</td>\n",
              "      <td>NaN</td>\n",
              "      <td>NaN</td>\n",
              "      <td>NaN</td>\n",
              "      <td>NaN</td>\n",
              "    </tr>\n",
              "    <tr>\n",
              "      <th>7</th>\n",
              "      <td>10021</td>\n",
              "      <td>FINE NEEDLE ASPIRATION BIOPSY, FIRST GROWTH</td>\n",
              "      <td>Outpatient</td>\n",
              "      <td>Line</td>\n",
              "      <td>1566.78</td>\n",
              "      <td>1566.78</td>\n",
              "      <td>275.46</td>\n",
              "      <td>2265.50</td>\n",
              "      <td>1270.48</td>\n",
              "      <td>NaN</td>\n",
              "      <td>...</td>\n",
              "      <td>NaN</td>\n",
              "      <td>NaN</td>\n",
              "      <td>NaN</td>\n",
              "      <td>NaN</td>\n",
              "      <td>NaN</td>\n",
              "      <td>NaN</td>\n",
              "      <td>NaN</td>\n",
              "      <td>NaN</td>\n",
              "      <td>NaN</td>\n",
              "      <td>NaN</td>\n",
              "    </tr>\n",
              "    <tr>\n",
              "      <th>8</th>\n",
              "      <td>10021</td>\n",
              "      <td>FINE NEEDLE ASPIRATION BIOPSY, FIRST GROWTH</td>\n",
              "      <td>Outpatient</td>\n",
              "      <td>Package</td>\n",
              "      <td>1566.78</td>\n",
              "      <td>1566.78</td>\n",
              "      <td>275.46</td>\n",
              "      <td>2265.50</td>\n",
              "      <td>1270.48</td>\n",
              "      <td>NaN</td>\n",
              "      <td>...</td>\n",
              "      <td>NaN</td>\n",
              "      <td>NaN</td>\n",
              "      <td>NaN</td>\n",
              "      <td>NaN</td>\n",
              "      <td>NaN</td>\n",
              "      <td>NaN</td>\n",
              "      <td>NaN</td>\n",
              "      <td>NaN</td>\n",
              "      <td>NaN</td>\n",
              "      <td>NaN</td>\n",
              "    </tr>\n",
              "    <tr>\n",
              "      <th>9</th>\n",
              "      <td>10030</td>\n",
              "      <td>DRAINAGE OF FLUID COLLECTION IN SOFT TISSUE US...</td>\n",
              "      <td>Outpatient</td>\n",
              "      <td>Line</td>\n",
              "      <td>2082.05</td>\n",
              "      <td>2082.05</td>\n",
              "      <td>152.66</td>\n",
              "      <td>4101.00</td>\n",
              "      <td>1663.85</td>\n",
              "      <td>NaN</td>\n",
              "      <td>...</td>\n",
              "      <td>NaN</td>\n",
              "      <td>NaN</td>\n",
              "      <td>NaN</td>\n",
              "      <td>NaN</td>\n",
              "      <td>NaN</td>\n",
              "      <td>NaN</td>\n",
              "      <td>NaN</td>\n",
              "      <td>NaN</td>\n",
              "      <td>NaN</td>\n",
              "      <td>NaN</td>\n",
              "    </tr>\n",
              "  </tbody>\n",
              "</table>\n",
              "<p>10 rows × 57 columns</p>\n",
              "</div>\n",
              "    <div class=\"colab-df-buttons\">\n",
              "\n",
              "  <div class=\"colab-df-container\">\n",
              "    <button class=\"colab-df-convert\" onclick=\"convertToInteractive('df-bfc467ee-0cb8-4223-93a3-452fb728700b')\"\n",
              "            title=\"Convert this dataframe to an interactive table.\"\n",
              "            style=\"display:none;\">\n",
              "\n",
              "  <svg xmlns=\"http://www.w3.org/2000/svg\" height=\"24px\" viewBox=\"0 -960 960 960\">\n",
              "    <path d=\"M120-120v-720h720v720H120Zm60-500h600v-160H180v160Zm220 220h160v-160H400v160Zm0 220h160v-160H400v160ZM180-400h160v-160H180v160Zm440 0h160v-160H620v160ZM180-180h160v-160H180v160Zm440 0h160v-160H620v160Z\"/>\n",
              "  </svg>\n",
              "    </button>\n",
              "\n",
              "  <style>\n",
              "    .colab-df-container {\n",
              "      display:flex;\n",
              "      gap: 12px;\n",
              "    }\n",
              "\n",
              "    .colab-df-convert {\n",
              "      background-color: #E8F0FE;\n",
              "      border: none;\n",
              "      border-radius: 50%;\n",
              "      cursor: pointer;\n",
              "      display: none;\n",
              "      fill: #1967D2;\n",
              "      height: 32px;\n",
              "      padding: 0 0 0 0;\n",
              "      width: 32px;\n",
              "    }\n",
              "\n",
              "    .colab-df-convert:hover {\n",
              "      background-color: #E2EBFA;\n",
              "      box-shadow: 0px 1px 2px rgba(60, 64, 67, 0.3), 0px 1px 3px 1px rgba(60, 64, 67, 0.15);\n",
              "      fill: #174EA6;\n",
              "    }\n",
              "\n",
              "    .colab-df-buttons div {\n",
              "      margin-bottom: 4px;\n",
              "    }\n",
              "\n",
              "    [theme=dark] .colab-df-convert {\n",
              "      background-color: #3B4455;\n",
              "      fill: #D2E3FC;\n",
              "    }\n",
              "\n",
              "    [theme=dark] .colab-df-convert:hover {\n",
              "      background-color: #434B5C;\n",
              "      box-shadow: 0px 1px 3px 1px rgba(0, 0, 0, 0.15);\n",
              "      filter: drop-shadow(0px 1px 2px rgba(0, 0, 0, 0.3));\n",
              "      fill: #FFFFFF;\n",
              "    }\n",
              "  </style>\n",
              "\n",
              "    <script>\n",
              "      const buttonEl =\n",
              "        document.querySelector('#df-bfc467ee-0cb8-4223-93a3-452fb728700b button.colab-df-convert');\n",
              "      buttonEl.style.display =\n",
              "        google.colab.kernel.accessAllowed ? 'block' : 'none';\n",
              "\n",
              "      async function convertToInteractive(key) {\n",
              "        const element = document.querySelector('#df-bfc467ee-0cb8-4223-93a3-452fb728700b');\n",
              "        const dataTable =\n",
              "          await google.colab.kernel.invokeFunction('convertToInteractive',\n",
              "                                                    [key], {});\n",
              "        if (!dataTable) return;\n",
              "\n",
              "        const docLinkHtml = 'Like what you see? Visit the ' +\n",
              "          '<a target=\"_blank\" href=https://colab.research.google.com/notebooks/data_table.ipynb>data table notebook</a>'\n",
              "          + ' to learn more about interactive tables.';\n",
              "        element.innerHTML = '';\n",
              "        dataTable['output_type'] = 'display_data';\n",
              "        await google.colab.output.renderOutput(dataTable, element);\n",
              "        const docLink = document.createElement('div');\n",
              "        docLink.innerHTML = docLinkHtml;\n",
              "        element.appendChild(docLink);\n",
              "      }\n",
              "    </script>\n",
              "  </div>\n",
              "\n",
              "\n",
              "<div id=\"df-3d47f3cb-8d75-4d3a-a488-a108b0c0fc9a\">\n",
              "  <button class=\"colab-df-quickchart\" onclick=\"quickchart('df-3d47f3cb-8d75-4d3a-a488-a108b0c0fc9a')\"\n",
              "            title=\"Suggest charts.\"\n",
              "            style=\"display:none;\">\n",
              "\n",
              "<svg xmlns=\"http://www.w3.org/2000/svg\" height=\"24px\"viewBox=\"0 0 24 24\"\n",
              "     width=\"24px\">\n",
              "    <g>\n",
              "        <path d=\"M19 3H5c-1.1 0-2 .9-2 2v14c0 1.1.9 2 2 2h14c1.1 0 2-.9 2-2V5c0-1.1-.9-2-2-2zM9 17H7v-7h2v7zm4 0h-2V7h2v10zm4 0h-2v-4h2v4z\"/>\n",
              "    </g>\n",
              "</svg>\n",
              "  </button>\n",
              "\n",
              "<style>\n",
              "  .colab-df-quickchart {\n",
              "      --bg-color: #E8F0FE;\n",
              "      --fill-color: #1967D2;\n",
              "      --hover-bg-color: #E2EBFA;\n",
              "      --hover-fill-color: #174EA6;\n",
              "      --disabled-fill-color: #AAA;\n",
              "      --disabled-bg-color: #DDD;\n",
              "  }\n",
              "\n",
              "  [theme=dark] .colab-df-quickchart {\n",
              "      --bg-color: #3B4455;\n",
              "      --fill-color: #D2E3FC;\n",
              "      --hover-bg-color: #434B5C;\n",
              "      --hover-fill-color: #FFFFFF;\n",
              "      --disabled-bg-color: #3B4455;\n",
              "      --disabled-fill-color: #666;\n",
              "  }\n",
              "\n",
              "  .colab-df-quickchart {\n",
              "    background-color: var(--bg-color);\n",
              "    border: none;\n",
              "    border-radius: 50%;\n",
              "    cursor: pointer;\n",
              "    display: none;\n",
              "    fill: var(--fill-color);\n",
              "    height: 32px;\n",
              "    padding: 0;\n",
              "    width: 32px;\n",
              "  }\n",
              "\n",
              "  .colab-df-quickchart:hover {\n",
              "    background-color: var(--hover-bg-color);\n",
              "    box-shadow: 0 1px 2px rgba(60, 64, 67, 0.3), 0 1px 3px 1px rgba(60, 64, 67, 0.15);\n",
              "    fill: var(--button-hover-fill-color);\n",
              "  }\n",
              "\n",
              "  .colab-df-quickchart-complete:disabled,\n",
              "  .colab-df-quickchart-complete:disabled:hover {\n",
              "    background-color: var(--disabled-bg-color);\n",
              "    fill: var(--disabled-fill-color);\n",
              "    box-shadow: none;\n",
              "  }\n",
              "\n",
              "  .colab-df-spinner {\n",
              "    border: 2px solid var(--fill-color);\n",
              "    border-color: transparent;\n",
              "    border-bottom-color: var(--fill-color);\n",
              "    animation:\n",
              "      spin 1s steps(1) infinite;\n",
              "  }\n",
              "\n",
              "  @keyframes spin {\n",
              "    0% {\n",
              "      border-color: transparent;\n",
              "      border-bottom-color: var(--fill-color);\n",
              "      border-left-color: var(--fill-color);\n",
              "    }\n",
              "    20% {\n",
              "      border-color: transparent;\n",
              "      border-left-color: var(--fill-color);\n",
              "      border-top-color: var(--fill-color);\n",
              "    }\n",
              "    30% {\n",
              "      border-color: transparent;\n",
              "      border-left-color: var(--fill-color);\n",
              "      border-top-color: var(--fill-color);\n",
              "      border-right-color: var(--fill-color);\n",
              "    }\n",
              "    40% {\n",
              "      border-color: transparent;\n",
              "      border-right-color: var(--fill-color);\n",
              "      border-top-color: var(--fill-color);\n",
              "    }\n",
              "    60% {\n",
              "      border-color: transparent;\n",
              "      border-right-color: var(--fill-color);\n",
              "    }\n",
              "    80% {\n",
              "      border-color: transparent;\n",
              "      border-right-color: var(--fill-color);\n",
              "      border-bottom-color: var(--fill-color);\n",
              "    }\n",
              "    90% {\n",
              "      border-color: transparent;\n",
              "      border-bottom-color: var(--fill-color);\n",
              "    }\n",
              "  }\n",
              "</style>\n",
              "\n",
              "  <script>\n",
              "    async function quickchart(key) {\n",
              "      const quickchartButtonEl =\n",
              "        document.querySelector('#' + key + ' button');\n",
              "      quickchartButtonEl.disabled = true;  // To prevent multiple clicks.\n",
              "      quickchartButtonEl.classList.add('colab-df-spinner');\n",
              "      try {\n",
              "        const charts = await google.colab.kernel.invokeFunction(\n",
              "            'suggestCharts', [key], {});\n",
              "      } catch (error) {\n",
              "        console.error('Error during call to suggestCharts:', error);\n",
              "      }\n",
              "      quickchartButtonEl.classList.remove('colab-df-spinner');\n",
              "      quickchartButtonEl.classList.add('colab-df-quickchart-complete');\n",
              "    }\n",
              "    (() => {\n",
              "      let quickchartButtonEl =\n",
              "        document.querySelector('#df-3d47f3cb-8d75-4d3a-a488-a108b0c0fc9a button');\n",
              "      quickchartButtonEl.style.display =\n",
              "        google.colab.kernel.accessAllowed ? 'block' : 'none';\n",
              "    })();\n",
              "  </script>\n",
              "</div>\n",
              "    </div>\n",
              "  </div>\n"
            ]
          },
          "metadata": {},
          "execution_count": 144
        }
      ]
    },
    {
      "cell_type": "markdown",
      "source": [
        "## Identifying missing values in the dataset\n",
        "\n"
      ],
      "metadata": {
        "id": "9iGaaEU9T0eF"
      }
    },
    {
      "cell_type": "code",
      "source": [
        "SB_df.isnull().values.sum()"
      ],
      "metadata": {
        "colab": {
          "base_uri": "https://localhost:8080/"
        },
        "id": "QDwuiXWnVHkj",
        "outputId": "4e5a5639-9043-4023-fad2-e016c37a29ab"
      },
      "execution_count": 145,
      "outputs": [
        {
          "output_type": "execute_result",
          "data": {
            "text/plain": [
              "336423"
            ]
          },
          "metadata": {},
          "execution_count": 145
        }
      ]
    },
    {
      "cell_type": "markdown",
      "source": [
        "## Replacing all missing values with 0"
      ],
      "metadata": {
        "id": "W8ueT41sXORE"
      }
    },
    {
      "cell_type": "code",
      "source": [
        "SB_df = SB_df.fillna(0)"
      ],
      "metadata": {
        "id": "m2N9qAscW2CS"
      },
      "execution_count": 146,
      "outputs": []
    },
    {
      "cell_type": "markdown",
      "source": [
        "## Confirming there are no missing values"
      ],
      "metadata": {
        "id": "PuZtrT9nXa-A"
      }
    },
    {
      "cell_type": "code",
      "source": [
        "SB_df.isnull().values.sum()"
      ],
      "metadata": {
        "colab": {
          "base_uri": "https://localhost:8080/"
        },
        "id": "gBX7fbGGXKBJ",
        "outputId": "b80283c1-c437-4d96-bd69-61390b12b57b"
      },
      "execution_count": 147,
      "outputs": [
        {
          "output_type": "execute_result",
          "data": {
            "text/plain": [
              "0"
            ]
          },
          "metadata": {},
          "execution_count": 147
        }
      ]
    },
    {
      "cell_type": "markdown",
      "source": [
        "## Data distribution using histograms for few columns"
      ],
      "metadata": {
        "id": "ddN_PcT2ZTAx"
      }
    },
    {
      "cell_type": "code",
      "source": [
        "plt.figure(figsize=(8, 6))\n",
        "plt.hist(SB_df['Gross charge'], bins=20, edgecolor='black', alpha=0.7)\n",
        "plt.xlabel('Gross charge')\n",
        "plt.ylabel('Frequency')\n",
        "plt.title('Histogram of Gross charge')\n",
        "plt.grid()\n",
        "plt.show()"
      ],
      "metadata": {
        "colab": {
          "base_uri": "https://localhost:8080/",
          "height": 564
        },
        "id": "2bu7yAsWZhsG",
        "outputId": "1dd12f5d-e94c-403b-ce5d-221ca69257a5"
      },
      "execution_count": 148,
      "outputs": [
        {
          "output_type": "display_data",
          "data": {
            "text/plain": [
              "<Figure size 800x600 with 1 Axes>"
            ],
            "image/png": "[encoded data removed]"
          },
          "metadata": {}
        }
      ]
    },
    {
      "cell_type": "code",
      "source": [
        "plt.figure(figsize=(8, 6))\n",
        "plt.hist(SB_df['Discounted cash price'], bins=20, edgecolor='black', alpha=0.7)\n",
        "plt.xlabel('Discounted cash price')\n",
        "plt.ylabel('Frequency')\n",
        "plt.title('Histogram of Discounted cash price')\n",
        "plt.grid()\n",
        "plt.show()"
      ],
      "metadata": {
        "colab": {
          "base_uri": "https://localhost:8080/",
          "height": 564
        },
        "id": "yZ4M9_VjaOip",
        "outputId": "a1858195-5997-4c98-8403-835cb4f94925"
      },
      "execution_count": 149,
      "outputs": [
        {
          "output_type": "display_data",
          "data": {
            "text/plain": [
              "<Figure size 800x600 with 1 Axes>"
            ],
            "image/png": "[encoded data removed]"
          },
          "metadata": {}
        }
      ]
    },
    {
      "cell_type": "code",
      "source": [
        "plt.figure(figsize=(8, 6))\n",
        "plt.hist(SB_df['De-identified max contracted rate'], bins=20, edgecolor='black', alpha=0.7)\n",
        "plt.xlabel('De-identified max contracted rate')\n",
        "plt.ylabel('Frequency')\n",
        "plt.title('Histogram of De-identified max contracted rate')\n",
        "plt.grid()\n",
        "plt.show()"
      ],
      "metadata": {
        "colab": {
          "base_uri": "https://localhost:8080/",
          "height": 564
        },
        "id": "Cl9p_1tnaeb9",
        "outputId": "88ae328d-4184-4081-aaab-e04f401dddf5"
      },
      "execution_count": 150,
      "outputs": [
        {
          "output_type": "display_data",
          "data": {
            "text/plain": [
              "<Figure size 800x600 with 1 Axes>"
            ],
            "image/png": "[encoded data removed]"
          },
          "metadata": {}
        }
      ]
    },
    {
      "cell_type": "markdown",
      "source": [
        "## Calculating the Mean for specific columns"
      ],
      "metadata": {
        "id": "yNPfoBsSbpTr"
      }
    },
    {
      "cell_type": "code",
      "source": [
        "SB_df_description = SB_df.describe()\n",
        "print(SB_df_description)"
      ],
      "metadata": {
        "colab": {
          "base_uri": "https://localhost:8080/"
        },
        "id": "Prg2peGNbv59",
        "outputId": "89389e68-7506-4cbf-92a4-33577815e772"
      },
      "execution_count": 151,
      "outputs": [
        {
          "output_type": "stream",
          "name": "stdout",
          "text": [
            "       Gross charge  Discounted cash price  De-identified min contracted rate  \\\n",
            "count  7.710000e+03           7.710000e+03                        7710.000000   \n",
            "mean   2.274832e+04           2.274832e+04                        3318.184112   \n",
            "std    7.470570e+04           7.470570e+04                        9658.863253   \n",
            "min    3.000000e-02           3.000000e-02                           0.000000   \n",
            "25%    1.065895e+03           1.065895e+03                           7.992500   \n",
            "50%    4.745295e+03           4.745295e+03                         329.195000   \n",
            "75%    1.103881e+04           1.103881e+04                        3008.800000   \n",
            "max    1.857952e+06           1.857952e+06                      327869.690000   \n",
            "\n",
            "       De-identified max contracted rate  Derived contracted rate  \\\n",
            "count                       7.710000e+03              7710.000000   \n",
            "mean                        8.140578e+03              5122.916424   \n",
            "std                         2.654620e+04             13381.140508   \n",
            "min                         0.000000e+00                 0.000000   \n",
            "25%                         7.527000e+01                42.272500   \n",
            "50%                         2.352000e+03              1425.850000   \n",
            "75%                         7.195000e+03              4890.955000   \n",
            "max                         1.302636e+06            370099.900000   \n",
            "\n",
            "       1199-Commercial other  Aetna-Medicare Advantage HMO  \\\n",
            "count            7710.000000                   7710.000000   \n",
            "mean              761.689241                    805.329385   \n",
            "std              9024.408935                   5185.413967   \n",
            "min                 0.000000                      0.000000   \n",
            "25%                 0.000000                      0.000000   \n",
            "50%                 0.000000                      0.000000   \n",
            "75%                 0.000000                      0.000000   \n",
            "max            331304.280000                 157848.600000   \n",
            "\n",
            "       Aetna-Commercial HMO/POS  Aetna-Commercial PPO/Open Access  \\\n",
            "count               7710.000000                       7710.000000   \n",
            "mean                1023.787826                        927.514354   \n",
            "std                 4623.889845                       4442.963160   \n",
            "min                    0.000000                          0.000000   \n",
            "25%                    0.000000                          0.000000   \n",
            "50%                    0.000000                          0.000000   \n",
            "75%                    0.000000                          0.000000   \n",
            "max                99999.990000                      96372.570000   \n",
            "\n",
            "       Aetna-Commercial other  ...  Optum-Commercial other  \\\n",
            "count             7710.000000  ...             7710.000000   \n",
            "mean                28.285447  ...             1329.276003   \n",
            "std                692.801952  ...             8065.862042   \n",
            "min                  0.000000  ...                0.000000   \n",
            "25%                  0.000000  ...                0.000000   \n",
            "50%                  0.000000  ...                0.000000   \n",
            "75%                  0.000000  ...                0.000000   \n",
            "max              54838.130000  ...           277267.380000   \n",
            "\n",
            "       Oxford-Commercial other  Oxford-Commercial HMO/POS  \\\n",
            "count              7710.000000                     7710.0   \n",
            "mean                592.944992                        0.0   \n",
            "std                2219.905670                        0.0   \n",
            "min                   0.000000                        0.0   \n",
            "25%                   0.000000                        0.0   \n",
            "50%                   0.000000                        0.0   \n",
            "75%                   0.000000                        0.0   \n",
            "max               80891.260000                        0.0   \n",
            "\n",
            "       Tricare-Commercial other  United Healthcare-Commercial other  \\\n",
            "count               7710.000000                         7710.000000   \n",
            "mean                 116.533341                         1827.351926   \n",
            "std                 2070.511499                         9384.459880   \n",
            "min                    0.000000                            0.000000   \n",
            "25%                    0.000000                            0.000000   \n",
            "50%                    0.000000                            0.000000   \n",
            "75%                    0.000000                          154.782500   \n",
            "max               154940.610000                       291490.750000   \n",
            "\n",
            "       United Healthcare-Medicare Advantage HMO  \\\n",
            "count                               7710.000000   \n",
            "mean                                 359.247259   \n",
            "std                                 3085.300723   \n",
            "min                                    0.000000   \n",
            "25%                                    0.000000   \n",
            "50%                                    0.000000   \n",
            "75%                                    0.000000   \n",
            "max                                92493.910000   \n",
            "\n",
            "       United Healthcare-Commercial HMO/POS  United Healthcare-Medicaid HMO  \\\n",
            "count                           7710.000000                     7710.000000   \n",
            "mean                              56.263564                      657.348752   \n",
            "std                             1408.944384                     5799.281743   \n",
            "min                                0.000000                        0.000000   \n",
            "25%                                0.000000                        0.000000   \n",
            "50%                                0.000000                        0.000000   \n",
            "75%                                0.000000                        7.885000   \n",
            "max                            88051.340000                   327869.690000   \n",
            "\n",
            "       United Healthcare-Commercial PPO/Open Access  \\\n",
            "count                                   7710.000000   \n",
            "mean                                      36.552756   \n",
            "std                                      640.847857   \n",
            "min                                        0.000000   \n",
            "25%                                        0.000000   \n",
            "50%                                        0.000000   \n",
            "75%                                        0.000000   \n",
            "max                                    26350.000000   \n",
            "\n",
            "       Veteran Family-Commercial other  \n",
            "count                      7710.000000  \n",
            "mean                          4.189885  \n",
            "std                         141.895437  \n",
            "min                           0.000000  \n",
            "25%                           0.000000  \n",
            "50%                           0.000000  \n",
            "75%                           0.000000  \n",
            "max                        7195.400000  \n",
            "\n",
            "[8 rows x 53 columns]\n"
          ]
        }
      ]
    },
    {
      "cell_type": "markdown",
      "source": [
        "## Calculating the Mode for specific Columns"
      ],
      "metadata": {
        "id": "PqcbKpkwcBAW"
      }
    },
    {
      "cell_type": "code",
      "source": [
        "mode_value_Gross_charge = SB_df['Gross charge'].mode().iloc[0]\n",
        "print(\"Mode Gross charge:\", mode_value_Gross_charge)"
      ],
      "metadata": {
        "colab": {
          "base_uri": "https://localhost:8080/"
        },
        "id": "WVVX3E3pc6Cc",
        "outputId": "76280d99-6fbf-40c4-cea5-bc9da18a7fc3"
      },
      "execution_count": 152,
      "outputs": [
        {
          "output_type": "stream",
          "name": "stdout",
          "text": [
            "Mode Gross charge: 8165.0\n"
          ]
        }
      ]
    },
    {
      "cell_type": "code",
      "source": [
        "mode_value_Discounted_cash_price = SB_df['Discounted cash price'].mode().iloc[0]\n",
        "print(\"Mode Discounted cash price:\", mode_value_Discounted_cash_price)"
      ],
      "metadata": {
        "colab": {
          "base_uri": "https://localhost:8080/"
        },
        "id": "MrrezxNsdTXB",
        "outputId": "b19b0d7f-b61a-4799-fefd-8af9271567ae"
      },
      "execution_count": 153,
      "outputs": [
        {
          "output_type": "stream",
          "name": "stdout",
          "text": [
            "Mode Discounted cash price: 8165.0\n"
          ]
        }
      ]
    },
    {
      "cell_type": "code",
      "source": [
        "mode_value_De_identified_max_contracted_rate = SB_df['De-identified max contracted rate'].mode().iloc[0]\n",
        "print(\"Mode De-identified max contracted rate:\", mode_value_De_identified_max_contracted_rate)"
      ],
      "metadata": {
        "colab": {
          "base_uri": "https://localhost:8080/"
        },
        "id": "QTdEXZVldrlq",
        "outputId": "769b5514-a1cb-4b1e-bcb4-e3b25a8437ab"
      },
      "execution_count": 154,
      "outputs": [
        {
          "output_type": "stream",
          "name": "stdout",
          "text": [
            "Mode De-identified max contracted rate: 0.0\n"
          ]
        }
      ]
    },
    {
      "cell_type": "markdown",
      "source": [
        "## Calculating the Median for Specific Columns"
      ],
      "metadata": {
        "id": "18eOzsOqe9uC"
      }
    },
    {
      "cell_type": "code",
      "source": [
        "median_value_Gross_charge = SB_df['Gross charge'].median()\n",
        "print(\"Median Gross charge:\", median_value_Gross_charge)"
      ],
      "metadata": {
        "colab": {
          "base_uri": "https://localhost:8080/"
        },
        "id": "ftaFYySEfGJG",
        "outputId": "fe04fac6-731f-4402-ada4-2aaccf629e18"
      },
      "execution_count": 155,
      "outputs": [
        {
          "output_type": "stream",
          "name": "stdout",
          "text": [
            "Median Gross charge: 4745.295\n"
          ]
        }
      ]
    },
    {
      "cell_type": "code",
      "source": [
        "median_value_Discounted_cash_price = SB_df['Discounted cash price'].median()\n",
        "print(\"Median Discounted cash price:\", median_value_Discounted_cash_price)"
      ],
      "metadata": {
        "colab": {
          "base_uri": "https://localhost:8080/"
        },
        "id": "ylit0HDrfaps",
        "outputId": "f5e7b11e-c41f-48df-a308-4cd986610317"
      },
      "execution_count": 156,
      "outputs": [
        {
          "output_type": "stream",
          "name": "stdout",
          "text": [
            "Median Discounted cash price: 4745.295\n"
          ]
        }
      ]
    },
    {
      "cell_type": "code",
      "source": [
        "median_value_De_identified_max_contracted_rate = SB_df['De-identified max contracted rate'].median()\n",
        "print(\"Median De-identified max contracted rate:\", median_value_De_identified_max_contracted_rate)"
      ],
      "metadata": {
        "colab": {
          "base_uri": "https://localhost:8080/"
        },
        "id": "I3pwvvlUfnMg",
        "outputId": "6f5cd918-5b0c-4a29-8a96-d7e0cd6a203b"
      },
      "execution_count": 157,
      "outputs": [
        {
          "output_type": "stream",
          "name": "stdout",
          "text": [
            "Median De-identified max contracted rate: 2352.0\n"
          ]
        }
      ]
    },
    {
      "cell_type": "markdown",
      "source": [
        "## Calculating the Range for Specific Column"
      ],
      "metadata": {
        "id": "OUGOavhDgRUF"
      }
    },
    {
      "cell_type": "code",
      "source": [
        "data_range_Gross_charge = SB_df['Gross charge'].max() - SB_df['Gross charge'].min()\n",
        "print(\"Data Range (Gross charge):\", data_range_Gross_charge)"
      ],
      "metadata": {
        "colab": {
          "base_uri": "https://localhost:8080/"
        },
        "id": "i4B2W8X4gUuK",
        "outputId": "38d4e1f7-d269-4ecc-f0db-7d423519cfff"
      },
      "execution_count": 158,
      "outputs": [
        {
          "output_type": "stream",
          "name": "stdout",
          "text": [
            "Data Range (Gross charge): 1857952.41\n"
          ]
        }
      ]
    },
    {
      "cell_type": "code",
      "source": [
        "data_range_Discounted_cash_price = SB_df['Discounted cash price'].max() - SB_df['Discounted cash price'].min()\n",
        "print(\"Data Range (Discounted cash price):\", data_range_Discounted_cash_price)"
      ],
      "metadata": {
        "colab": {
          "base_uri": "https://localhost:8080/"
        },
        "id": "AGtwXqg8gujs",
        "outputId": "49f7d275-6a13-41b9-a871-016940b253da"
      },
      "execution_count": 159,
      "outputs": [
        {
          "output_type": "stream",
          "name": "stdout",
          "text": [
            "Data Range (Discounted cash price): 1857952.41\n"
          ]
        }
      ]
    },
    {
      "cell_type": "code",
      "source": [
        "data_range_De_identified_max_contracted_rate = SB_df['De-identified max contracted rate'].max() - SB_df['De-identified max contracted rate'].min()\n",
        "print(\"Data Range (De-identified max contracted rate):\", data_range_De_identified_max_contracted_rate)"
      ],
      "metadata": {
        "colab": {
          "base_uri": "https://localhost:8080/"
        },
        "id": "pYHasz6uguwh",
        "outputId": "1db190f4-4768-42d5-beac-c46fd5994dc4"
      },
      "execution_count": 160,
      "outputs": [
        {
          "output_type": "stream",
          "name": "stdout",
          "text": [
            "Data Range (De-identified max contracted rate): 1302635.53\n"
          ]
        }
      ]
    },
    {
      "cell_type": "markdown",
      "source": [
        "## Calculating the Variance for Specific Coulmns\n",
        "\n"
      ],
      "metadata": {
        "id": "FkYoJ_ZJgz_d"
      }
    },
    {
      "cell_type": "code",
      "source": [
        "variance_Gross_charge = np.var(SB_df['Gross charge'])\n",
        "print(\"Variance Gross_charge:\", variance_Gross_charge)"
      ],
      "metadata": {
        "colab": {
          "base_uri": "https://localhost:8080/"
        },
        "id": "mVriD6Fcg2FV",
        "outputId": "e1301540-ae0f-4000-8b27-15d24f7d0ff4"
      },
      "execution_count": 161,
      "outputs": [
        {
          "output_type": "stream",
          "name": "stdout",
          "text": [
            "Variance Gross_charge: 5580218242.883507\n"
          ]
        }
      ]
    },
    {
      "cell_type": "code",
      "source": [
        "variance_Discounted_cash_price = np.var(SB_df['Discounted cash price'])\n",
        "print(\"Variance Discounted_cash_price:\", variance_Discounted_cash_price)"
      ],
      "metadata": {
        "colab": {
          "base_uri": "https://localhost:8080/"
        },
        "id": "bImg-AAKhTc4",
        "outputId": "35f751a7-00b9-47b6-bb5b-9457f7b98575"
      },
      "execution_count": 162,
      "outputs": [
        {
          "output_type": "stream",
          "name": "stdout",
          "text": [
            "Variance Discounted_cash_price: 5580218242.883507\n"
          ]
        }
      ]
    },
    {
      "cell_type": "code",
      "source": [
        "variance_De_identified_max_contracted_rate = np.var(SB_df['De-identified max contracted rate'])\n",
        "print(\"Variance De_identified_max_contracted_rate:\", variance_De_identified_max_contracted_rate)"
      ],
      "metadata": {
        "colab": {
          "base_uri": "https://localhost:8080/"
        },
        "id": "7RqI7lIchTkR",
        "outputId": "e4df2baa-057d-4bcf-d826-99e289f4d735"
      },
      "execution_count": 163,
      "outputs": [
        {
          "output_type": "stream",
          "name": "stdout",
          "text": [
            "Variance De_identified_max_contracted_rate: 704609412.1483816\n"
          ]
        }
      ]
    },
    {
      "cell_type": "markdown",
      "source": [
        "## Calculating the Standard Deviation for Specific Column"
      ],
      "metadata": {
        "id": "psYvwRGpha05"
      }
    },
    {
      "cell_type": "code",
      "source": [
        "std_deviation_Gross_charge = np.std(SB_df['Gross charge'])\n",
        "print(\"Standard Deviation Gross charge:\", std_deviation_Gross_charge)"
      ],
      "metadata": {
        "colab": {
          "base_uri": "https://localhost:8080/"
        },
        "id": "V8jWgwTBhg5x",
        "outputId": "8be4de7d-117d-49cf-ca23-0aae3297c8f8"
      },
      "execution_count": 164,
      "outputs": [
        {
          "output_type": "stream",
          "name": "stdout",
          "text": [
            "Standard Deviation Gross charge: 74700.85838116927\n"
          ]
        }
      ]
    },
    {
      "cell_type": "code",
      "source": [
        "std_deviation_Gross_charge = np.std(SB_df['Discounted cash price'])\n",
        "print(\"Standard Deviation Gross charge:\", std_deviation_Gross_charge)"
      ],
      "metadata": {
        "colab": {
          "base_uri": "https://localhost:8080/"
        },
        "id": "cnPXCxiViA7d",
        "outputId": "d255ac09-4f75-453f-e0cb-12486dc9a17f"
      },
      "execution_count": 165,
      "outputs": [
        {
          "output_type": "stream",
          "name": "stdout",
          "text": [
            "Standard Deviation Gross charge: 74700.85838116927\n"
          ]
        }
      ]
    },
    {
      "cell_type": "code",
      "source": [
        "std_deviation_Gross_charge = np.std(SB_df['De-identified max contracted rate'])\n",
        "print(\"Standard Deviation Gross charge:\", std_deviation_Gross_charge)"
      ],
      "metadata": {
        "colab": {
          "base_uri": "https://localhost:8080/"
        },
        "id": "XYy_w5OHiBBz",
        "outputId": "623ab0d7-01d2-42e4-ed5f-07bb8aaeb796"
      },
      "execution_count": 166,
      "outputs": [
        {
          "output_type": "stream",
          "name": "stdout",
          "text": [
            "Standard Deviation Gross charge: 26544.479880916515\n"
          ]
        }
      ]
    },
    {
      "cell_type": "markdown",
      "source": [
        "## Frequency counts for categorical variables"
      ],
      "metadata": {
        "id": "TBf7YBSfkY9v"
      }
    },
    {
      "cell_type": "code",
      "source": [
        "SB_df['Type'].value_counts()"
      ],
      "metadata": {
        "colab": {
          "base_uri": "https://localhost:8080/"
        },
        "id": "ut9EfWZYksvy",
        "outputId": "9e615f61-43fb-4717-abe9-2fe7ddbfe5c9"
      },
      "execution_count": 167,
      "outputs": [
        {
          "output_type": "execute_result",
          "data": {
            "text/plain": [
              "Outpatient    6041\n",
              "Inpatient      886\n",
              "0              783\n",
              "Name: Type, dtype: int64"
            ]
          },
          "metadata": {},
          "execution_count": 167
        }
      ]
    },
    {
      "cell_type": "code",
      "source": [
        "SB_df['Package/Line_Level'].value_counts()"
      ],
      "metadata": {
        "colab": {
          "base_uri": "https://localhost:8080/"
        },
        "id": "gzNqxqyglH8c",
        "outputId": "3f7759b6-887f-42c9-e47a-34e69375e84a"
      },
      "execution_count": 168,
      "outputs": [
        {
          "output_type": "execute_result",
          "data": {
            "text/plain": [
              "Line       4691\n",
              "Package    2236\n",
              "0           783\n",
              "Name: Package/Line_Level, dtype: int64"
            ]
          },
          "metadata": {},
          "execution_count": 168
        }
      ]
    },
    {
      "cell_type": "markdown",
      "source": [
        "## Documenting any captivating insights or observations derived from my analysis.\n",
        "I observed that all the data is heavily skewed. I also observed that the range of Gross Charge was 1857952.41, which is really high. I also observed that the Mode of the Discounted cash price was the same as the mode of the Gross charge which were both 8165.0. I saw that the Median for Gross charge and the median for the Discounted cash price were both the same, which were 4745.295."
      ],
      "metadata": {
        "id": "FsSw0DmYiZ9N"
      }
    },
    {
      "cell_type": "code",
      "source": [
        "NWMH_df = pd.read_json('Northwestern Memorial Hospital_SC.json', encoding = 'utf-8-sig')\n",
        "NWMH_df.head(10)"
      ],
      "metadata": {
        "colab": {
          "base_uri": "https://localhost:8080/",
          "height": 690
        },
        "id": "FtQtkWfoUQ-k",
        "outputId": "22a3dcd2-b9d8-4113-bf13-d187e65777fd"
      },
      "execution_count": 169,
      "outputs": [
        {
          "output_type": "execute_result",
          "data": {
            "text/plain": [
              "   Billing_Code                                Service_Description  \\\n",
              "0  ADA 27204122  HB KNIFE JR ELECTROSURGICAL TISSUE CUT HIGH FR...   \n",
              "1    CPT® 0001A                       ADM SARSCOV2 30MCG/0.3ML 1ST   \n",
              "2    CPT® 0001U                              RED BLOOD CELL TYPING   \n",
              "3    CPT® 0002A                       ADM SARSCOV2 30MCG/0.3ML 2ND   \n",
              "4    CPT® 0003A                       ADM SARSCOV2 30MCG/0.3ML 3RD   \n",
              "5    CPT® 0003M  MOLECULAR PATHOLOGY TEST FOR LIVER DISEASE, IN...   \n",
              "6    CPT® 0004A                       ADM SARSCOV2 30MCG/0.3ML BST   \n",
              "7    CPT® 0011A                       ADM SARSCOV2 100MCG/0.5ML1ST   \n",
              "8    CPT® 0012A                       ADM SARSCOV2 100MCG/0.5ML2ND   \n",
              "9    CPT® 0013A                       ADM SARSCOV2 100MCG/0.5ML3RD   \n",
              "\n",
              "   Revenue_Code  Gross_Charge  Deidentified_Minimum_Negotiated_Charge  \\\n",
              "0         272.0       3083.00                                  554.94   \n",
              "1         771.0        200.00                                   36.00   \n",
              "2         302.0        954.67                                  141.12   \n",
              "3         771.0        200.00                                   36.00   \n",
              "4         771.0        200.00                                   36.00   \n",
              "5         300.0       1586.00                                   55.00   \n",
              "6         771.0        200.00                                   36.00   \n",
              "7         771.0        200.00                                   36.00   \n",
              "8         771.0        200.00                                   36.00   \n",
              "9         771.0        200.00                                   36.00   \n",
              "\n",
              "   Deidentified_Maximum_Negotiated_Charge  Discounted_Cash_Price  \\\n",
              "0                                 2404.74                2158.10   \n",
              "1                                  156.00                 140.00   \n",
              "2                                  939.12                 668.27   \n",
              "3                                  156.00                 140.00   \n",
              "4                                  156.00                 140.00   \n",
              "5                                 1586.00                1110.20   \n",
              "6                                  156.00                 140.00   \n",
              "7                                  156.00                 140.00   \n",
              "8                                  156.00                 140.00   \n",
              "9                                  156.00                 140.00   \n",
              "\n",
              "   NMH AETNA [3004]  NMH AETNA BP [759]  NMH AETNA NAP [330]  ...  \\\n",
              "0           1035.89               924.9              2404.74  ...   \n",
              "1             42.01                60.0               156.00  ...   \n",
              "2            320.77               286.4               744.64  ...   \n",
              "3             42.01                60.0               156.00  ...   \n",
              "4             42.01                60.0               156.00  ...   \n",
              "5            532.90               475.8              1237.08  ...   \n",
              "6             42.01                60.0               156.00  ...   \n",
              "7             42.01                60.0               156.00  ...   \n",
              "8             42.01                60.0               156.00  ...   \n",
              "9             42.01                60.0               156.00  ...   \n",
              "\n",
              "   NMH BCBS BLUECHOICE PREFERRED [433]  NMH BCBS PAR/INDEMNITY ADP [486]  \\\n",
              "0                               755.34                           1754.23   \n",
              "1                                54.00                            113.80   \n",
              "2                               257.76                            543.21   \n",
              "3                                54.00                            113.80   \n",
              "4                                54.00                            113.80   \n",
              "5                               428.22                            902.43   \n",
              "6                                54.00                            113.80   \n",
              "7                                54.00                            113.80   \n",
              "8                                54.00                            113.80   \n",
              "9                                49.00                            113.80   \n",
              "\n",
              "   NMH BCBS PPO [371]  NMH CIGNA ALTERNATIVE [664]  NMH CIGNA BROAD [663]  \\\n",
              "0             1109.88                       829.33                2053.28   \n",
              "1               73.00                        53.80                 133.20   \n",
              "2              348.45                       256.81                 635.81   \n",
              "3               73.00                        53.80                 133.20   \n",
              "4               73.00                        53.80                 133.20   \n",
              "5              578.89                      1543.09                1586.00   \n",
              "6               73.00                        53.80                 133.20   \n",
              "7               73.00                        53.80                 133.20   \n",
              "8               73.00                        53.80                 133.20   \n",
              "9               72.00                        53.80                 133.20   \n",
              "\n",
              "   NMH CIGNA PLUS NM [680]  NMH HEALTH ALLIANCE [399]  NMH HUMANA [553]  \\\n",
              "0                   554.94                    1097.55           1214.70   \n",
              "1                    36.00                      71.20             78.80   \n",
              "2                   171.84                     339.86            376.14   \n",
              "3                    36.00                      71.20             78.80   \n",
              "4                    36.00                      71.20             78.80   \n",
              "5                   285.48                     564.62            624.88   \n",
              "6                    36.00                      71.20             78.80   \n",
              "7                    36.00                      71.20             78.80   \n",
              "8                    36.00                      71.20             78.80   \n",
              "9                    36.00                      71.20             78.80   \n",
              "\n",
              "   NMH UHC [419]  NMH UHC CORE [329]  \n",
              "0         872.49              823.16  \n",
              "1          56.60               53.40  \n",
              "2         720.00              720.00  \n",
              "3          56.60               53.40  \n",
              "4          56.60               53.40  \n",
              "5          59.00               55.00  \n",
              "6          56.60               53.40  \n",
              "7          56.60               53.40  \n",
              "8          56.60               53.40  \n",
              "9          56.60               53.40  \n",
              "\n",
              "[10 rows x 21 columns]"
            ],
            "text/html": [
              "\n",
              "  <div id=\"df-3e4467dd-ec21-4c85-8cb9-40a4499415c7\" class=\"colab-df-container\">\n",
              "    <div>\n",
              "<style scoped>\n",
              "    .dataframe tbody tr th:only-of-type {\n",
              "        vertical-align: middle;\n",
              "    }\n",
              "\n",
              "    .dataframe tbody tr th {\n",
              "        vertical-align: top;\n",
              "    }\n",
              "\n",
              "    .dataframe thead th {\n",
              "        text-align: right;\n",
              "    }\n",
              "</style>\n",
              "<table border=\"1\" class=\"dataframe\">\n",
              "  <thead>\n",
              "    <tr style=\"text-align: right;\">\n",
              "      <th></th>\n",
              "      <th>Billing_Code</th>\n",
              "      <th>Service_Description</th>\n",
              "      <th>Revenue_Code</th>\n",
              "      <th>Gross_Charge</th>\n",
              "      <th>Deidentified_Minimum_Negotiated_Charge</th>\n",
              "      <th>Deidentified_Maximum_Negotiated_Charge</th>\n",
              "      <th>Discounted_Cash_Price</th>\n",
              "      <th>NMH AETNA [3004]</th>\n",
              "      <th>NMH AETNA BP [759]</th>\n",
              "      <th>NMH AETNA NAP [330]</th>\n",
              "      <th>...</th>\n",
              "      <th>NMH BCBS BLUECHOICE PREFERRED [433]</th>\n",
              "      <th>NMH BCBS PAR/INDEMNITY ADP [486]</th>\n",
              "      <th>NMH BCBS PPO [371]</th>\n",
              "      <th>NMH CIGNA ALTERNATIVE [664]</th>\n",
              "      <th>NMH CIGNA BROAD [663]</th>\n",
              "      <th>NMH CIGNA PLUS NM [680]</th>\n",
              "      <th>NMH HEALTH ALLIANCE [399]</th>\n",
              "      <th>NMH HUMANA [553]</th>\n",
              "      <th>NMH UHC [419]</th>\n",
              "      <th>NMH UHC CORE [329]</th>\n",
              "    </tr>\n",
              "  </thead>\n",
              "  <tbody>\n",
              "    <tr>\n",
              "      <th>0</th>\n",
              "      <td>ADA 27204122</td>\n",
              "      <td>HB KNIFE JR ELECTROSURGICAL TISSUE CUT HIGH FR...</td>\n",
              "      <td>272.0</td>\n",
              "      <td>3083.00</td>\n",
              "      <td>554.94</td>\n",
              "      <td>2404.74</td>\n",
              "      <td>2158.10</td>\n",
              "      <td>1035.89</td>\n",
              "      <td>924.9</td>\n",
              "      <td>2404.74</td>\n",
              "      <td>...</td>\n",
              "      <td>755.34</td>\n",
              "      <td>1754.23</td>\n",
              "      <td>1109.88</td>\n",
              "      <td>829.33</td>\n",
              "      <td>2053.28</td>\n",
              "      <td>554.94</td>\n",
              "      <td>1097.55</td>\n",
              "      <td>1214.70</td>\n",
              "      <td>872.49</td>\n",
              "      <td>823.16</td>\n",
              "    </tr>\n",
              "    <tr>\n",
              "      <th>1</th>\n",
              "      <td>CPT® 0001A</td>\n",
              "      <td>ADM SARSCOV2 30MCG/0.3ML 1ST</td>\n",
              "      <td>771.0</td>\n",
              "      <td>200.00</td>\n",
              "      <td>36.00</td>\n",
              "      <td>156.00</td>\n",
              "      <td>140.00</td>\n",
              "      <td>42.01</td>\n",
              "      <td>60.0</td>\n",
              "      <td>156.00</td>\n",
              "      <td>...</td>\n",
              "      <td>54.00</td>\n",
              "      <td>113.80</td>\n",
              "      <td>73.00</td>\n",
              "      <td>53.80</td>\n",
              "      <td>133.20</td>\n",
              "      <td>36.00</td>\n",
              "      <td>71.20</td>\n",
              "      <td>78.80</td>\n",
              "      <td>56.60</td>\n",
              "      <td>53.40</td>\n",
              "    </tr>\n",
              "    <tr>\n",
              "      <th>2</th>\n",
              "      <td>CPT® 0001U</td>\n",
              "      <td>RED BLOOD CELL TYPING</td>\n",
              "      <td>302.0</td>\n",
              "      <td>954.67</td>\n",
              "      <td>141.12</td>\n",
              "      <td>939.12</td>\n",
              "      <td>668.27</td>\n",
              "      <td>320.77</td>\n",
              "      <td>286.4</td>\n",
              "      <td>744.64</td>\n",
              "      <td>...</td>\n",
              "      <td>257.76</td>\n",
              "      <td>543.21</td>\n",
              "      <td>348.45</td>\n",
              "      <td>256.81</td>\n",
              "      <td>635.81</td>\n",
              "      <td>171.84</td>\n",
              "      <td>339.86</td>\n",
              "      <td>376.14</td>\n",
              "      <td>720.00</td>\n",
              "      <td>720.00</td>\n",
              "    </tr>\n",
              "    <tr>\n",
              "      <th>3</th>\n",
              "      <td>CPT® 0002A</td>\n",
              "      <td>ADM SARSCOV2 30MCG/0.3ML 2ND</td>\n",
              "      <td>771.0</td>\n",
              "      <td>200.00</td>\n",
              "      <td>36.00</td>\n",
              "      <td>156.00</td>\n",
              "      <td>140.00</td>\n",
              "      <td>42.01</td>\n",
              "      <td>60.0</td>\n",
              "      <td>156.00</td>\n",
              "      <td>...</td>\n",
              "      <td>54.00</td>\n",
              "      <td>113.80</td>\n",
              "      <td>73.00</td>\n",
              "      <td>53.80</td>\n",
              "      <td>133.20</td>\n",
              "      <td>36.00</td>\n",
              "      <td>71.20</td>\n",
              "      <td>78.80</td>\n",
              "      <td>56.60</td>\n",
              "      <td>53.40</td>\n",
              "    </tr>\n",
              "    <tr>\n",
              "      <th>4</th>\n",
              "      <td>CPT® 0003A</td>\n",
              "      <td>ADM SARSCOV2 30MCG/0.3ML 3RD</td>\n",
              "      <td>771.0</td>\n",
              "      <td>200.00</td>\n",
              "      <td>36.00</td>\n",
              "      <td>156.00</td>\n",
              "      <td>140.00</td>\n",
              "      <td>42.01</td>\n",
              "      <td>60.0</td>\n",
              "      <td>156.00</td>\n",
              "      <td>...</td>\n",
              "      <td>54.00</td>\n",
              "      <td>113.80</td>\n",
              "      <td>73.00</td>\n",
              "      <td>53.80</td>\n",
              "      <td>133.20</td>\n",
              "      <td>36.00</td>\n",
              "      <td>71.20</td>\n",
              "      <td>78.80</td>\n",
              "      <td>56.60</td>\n",
              "      <td>53.40</td>\n",
              "    </tr>\n",
              "    <tr>\n",
              "      <th>5</th>\n",
              "      <td>CPT® 0003M</td>\n",
              "      <td>MOLECULAR PATHOLOGY TEST FOR LIVER DISEASE, IN...</td>\n",
              "      <td>300.0</td>\n",
              "      <td>1586.00</td>\n",
              "      <td>55.00</td>\n",
              "      <td>1586.00</td>\n",
              "      <td>1110.20</td>\n",
              "      <td>532.90</td>\n",
              "      <td>475.8</td>\n",
              "      <td>1237.08</td>\n",
              "      <td>...</td>\n",
              "      <td>428.22</td>\n",
              "      <td>902.43</td>\n",
              "      <td>578.89</td>\n",
              "      <td>1543.09</td>\n",
              "      <td>1586.00</td>\n",
              "      <td>285.48</td>\n",
              "      <td>564.62</td>\n",
              "      <td>624.88</td>\n",
              "      <td>59.00</td>\n",
              "      <td>55.00</td>\n",
              "    </tr>\n",
              "    <tr>\n",
              "      <th>6</th>\n",
              "      <td>CPT® 0004A</td>\n",
              "      <td>ADM SARSCOV2 30MCG/0.3ML BST</td>\n",
              "      <td>771.0</td>\n",
              "      <td>200.00</td>\n",
              "      <td>36.00</td>\n",
              "      <td>156.00</td>\n",
              "      <td>140.00</td>\n",
              "      <td>42.01</td>\n",
              "      <td>60.0</td>\n",
              "      <td>156.00</td>\n",
              "      <td>...</td>\n",
              "      <td>54.00</td>\n",
              "      <td>113.80</td>\n",
              "      <td>73.00</td>\n",
              "      <td>53.80</td>\n",
              "      <td>133.20</td>\n",
              "      <td>36.00</td>\n",
              "      <td>71.20</td>\n",
              "      <td>78.80</td>\n",
              "      <td>56.60</td>\n",
              "      <td>53.40</td>\n",
              "    </tr>\n",
              "    <tr>\n",
              "      <th>7</th>\n",
              "      <td>CPT® 0011A</td>\n",
              "      <td>ADM SARSCOV2 100MCG/0.5ML1ST</td>\n",
              "      <td>771.0</td>\n",
              "      <td>200.00</td>\n",
              "      <td>36.00</td>\n",
              "      <td>156.00</td>\n",
              "      <td>140.00</td>\n",
              "      <td>42.01</td>\n",
              "      <td>60.0</td>\n",
              "      <td>156.00</td>\n",
              "      <td>...</td>\n",
              "      <td>54.00</td>\n",
              "      <td>113.80</td>\n",
              "      <td>73.00</td>\n",
              "      <td>53.80</td>\n",
              "      <td>133.20</td>\n",
              "      <td>36.00</td>\n",
              "      <td>71.20</td>\n",
              "      <td>78.80</td>\n",
              "      <td>56.60</td>\n",
              "      <td>53.40</td>\n",
              "    </tr>\n",
              "    <tr>\n",
              "      <th>8</th>\n",
              "      <td>CPT® 0012A</td>\n",
              "      <td>ADM SARSCOV2 100MCG/0.5ML2ND</td>\n",
              "      <td>771.0</td>\n",
              "      <td>200.00</td>\n",
              "      <td>36.00</td>\n",
              "      <td>156.00</td>\n",
              "      <td>140.00</td>\n",
              "      <td>42.01</td>\n",
              "      <td>60.0</td>\n",
              "      <td>156.00</td>\n",
              "      <td>...</td>\n",
              "      <td>54.00</td>\n",
              "      <td>113.80</td>\n",
              "      <td>73.00</td>\n",
              "      <td>53.80</td>\n",
              "      <td>133.20</td>\n",
              "      <td>36.00</td>\n",
              "      <td>71.20</td>\n",
              "      <td>78.80</td>\n",
              "      <td>56.60</td>\n",
              "      <td>53.40</td>\n",
              "    </tr>\n",
              "    <tr>\n",
              "      <th>9</th>\n",
              "      <td>CPT® 0013A</td>\n",
              "      <td>ADM SARSCOV2 100MCG/0.5ML3RD</td>\n",
              "      <td>771.0</td>\n",
              "      <td>200.00</td>\n",
              "      <td>36.00</td>\n",
              "      <td>156.00</td>\n",
              "      <td>140.00</td>\n",
              "      <td>42.01</td>\n",
              "      <td>60.0</td>\n",
              "      <td>156.00</td>\n",
              "      <td>...</td>\n",
              "      <td>49.00</td>\n",
              "      <td>113.80</td>\n",
              "      <td>72.00</td>\n",
              "      <td>53.80</td>\n",
              "      <td>133.20</td>\n",
              "      <td>36.00</td>\n",
              "      <td>71.20</td>\n",
              "      <td>78.80</td>\n",
              "      <td>56.60</td>\n",
              "      <td>53.40</td>\n",
              "    </tr>\n",
              "  </tbody>\n",
              "</table>\n",
              "<p>10 rows × 21 columns</p>\n",
              "</div>\n",
              "    <div class=\"colab-df-buttons\">\n",
              "\n",
              "  <div class=\"colab-df-container\">\n",
              "    <button class=\"colab-df-convert\" onclick=\"convertToInteractive('df-3e4467dd-ec21-4c85-8cb9-40a4499415c7')\"\n",
              "            title=\"Convert this dataframe to an interactive table.\"\n",
              "            style=\"display:none;\">\n",
              "\n",
              "  <svg xmlns=\"http://www.w3.org/2000/svg\" height=\"24px\" viewBox=\"0 -960 960 960\">\n",
              "    <path d=\"M120-120v-720h720v720H120Zm60-500h600v-160H180v160Zm220 220h160v-160H400v160Zm0 220h160v-160H400v160ZM180-400h160v-160H180v160Zm440 0h160v-160H620v160ZM180-180h160v-160H180v160Zm440 0h160v-160H620v160Z\"/>\n",
              "  </svg>\n",
              "    </button>\n",
              "\n",
              "  <style>\n",
              "    .colab-df-container {\n",
              "      display:flex;\n",
              "      gap: 12px;\n",
              "    }\n",
              "\n",
              "    .colab-df-convert {\n",
              "      background-color: #E8F0FE;\n",
              "      border: none;\n",
              "      border-radius: 50%;\n",
              "      cursor: pointer;\n",
              "      display: none;\n",
              "      fill: #1967D2;\n",
              "      height: 32px;\n",
              "      padding: 0 0 0 0;\n",
              "      width: 32px;\n",
              "    }\n",
              "\n",
              "    .colab-df-convert:hover {\n",
              "      background-color: #E2EBFA;\n",
              "      box-shadow: 0px 1px 2px rgba(60, 64, 67, 0.3), 0px 1px 3px 1px rgba(60, 64, 67, 0.15);\n",
              "      fill: #174EA6;\n",
              "    }\n",
              "\n",
              "    .colab-df-buttons div {\n",
              "      margin-bottom: 4px;\n",
              "    }\n",
              "\n",
              "    [theme=dark] .colab-df-convert {\n",
              "      background-color: #3B4455;\n",
              "      fill: #D2E3FC;\n",
              "    }\n",
              "\n",
              "    [theme=dark] .colab-df-convert:hover {\n",
              "      background-color: #434B5C;\n",
              "      box-shadow: 0px 1px 3px 1px rgba(0, 0, 0, 0.15);\n",
              "      filter: drop-shadow(0px 1px 2px rgba(0, 0, 0, 0.3));\n",
              "      fill: #FFFFFF;\n",
              "    }\n",
              "  </style>\n",
              "\n",
              "    <script>\n",
              "      const buttonEl =\n",
              "        document.querySelector('#df-3e4467dd-ec21-4c85-8cb9-40a4499415c7 button.colab-df-convert');\n",
              "      buttonEl.style.display =\n",
              "        google.colab.kernel.accessAllowed ? 'block' : 'none';\n",
              "\n",
              "      async function convertToInteractive(key) {\n",
              "        const element = document.querySelector('#df-3e4467dd-ec21-4c85-8cb9-40a4499415c7');\n",
              "        const dataTable =\n",
              "          await google.colab.kernel.invokeFunction('convertToInteractive',\n",
              "                                                    [key], {});\n",
              "        if (!dataTable) return;\n",
              "\n",
              "        const docLinkHtml = 'Like what you see? Visit the ' +\n",
              "          '<a target=\"_blank\" href=https://colab.research.google.com/notebooks/data_table.ipynb>data table notebook</a>'\n",
              "          + ' to learn more about interactive tables.';\n",
              "        element.innerHTML = '';\n",
              "        dataTable['output_type'] = 'display_data';\n",
              "        await google.colab.output.renderOutput(dataTable, element);\n",
              "        const docLink = document.createElement('div');\n",
              "        docLink.innerHTML = docLinkHtml;\n",
              "        element.appendChild(docLink);\n",
              "      }\n",
              "    </script>\n",
              "  </div>\n",
              "\n",
              "\n",
              "<div id=\"df-47635e9d-7426-42cf-822f-a15c0b922857\">\n",
              "  <button class=\"colab-df-quickchart\" onclick=\"quickchart('df-47635e9d-7426-42cf-822f-a15c0b922857')\"\n",
              "            title=\"Suggest charts.\"\n",
              "            style=\"display:none;\">\n",
              "\n",
              "<svg xmlns=\"http://www.w3.org/2000/svg\" height=\"24px\"viewBox=\"0 0 24 24\"\n",
              "     width=\"24px\">\n",
              "    <g>\n",
              "        <path d=\"M19 3H5c-1.1 0-2 .9-2 2v14c0 1.1.9 2 2 2h14c1.1 0 2-.9 2-2V5c0-1.1-.9-2-2-2zM9 17H7v-7h2v7zm4 0h-2V7h2v10zm4 0h-2v-4h2v4z\"/>\n",
              "    </g>\n",
              "</svg>\n",
              "  </button>\n",
              "\n",
              "<style>\n",
              "  .colab-df-quickchart {\n",
              "      --bg-color: #E8F0FE;\n",
              "      --fill-color: #1967D2;\n",
              "      --hover-bg-color: #E2EBFA;\n",
              "      --hover-fill-color: #174EA6;\n",
              "      --disabled-fill-color: #AAA;\n",
              "      --disabled-bg-color: #DDD;\n",
              "  }\n",
              "\n",
              "  [theme=dark] .colab-df-quickchart {\n",
              "      --bg-color: #3B4455;\n",
              "      --fill-color: #D2E3FC;\n",
              "      --hover-bg-color: #434B5C;\n",
              "      --hover-fill-color: #FFFFFF;\n",
              "      --disabled-bg-color: #3B4455;\n",
              "      --disabled-fill-color: #666;\n",
              "  }\n",
              "\n",
              "  .colab-df-quickchart {\n",
              "    background-color: var(--bg-color);\n",
              "    border: none;\n",
              "    border-radius: 50%;\n",
              "    cursor: pointer;\n",
              "    display: none;\n",
              "    fill: var(--fill-color);\n",
              "    height: 32px;\n",
              "    padding: 0;\n",
              "    width: 32px;\n",
              "  }\n",
              "\n",
              "  .colab-df-quickchart:hover {\n",
              "    background-color: var(--hover-bg-color);\n",
              "    box-shadow: 0 1px 2px rgba(60, 64, 67, 0.3), 0 1px 3px 1px rgba(60, 64, 67, 0.15);\n",
              "    fill: var(--button-hover-fill-color);\n",
              "  }\n",
              "\n",
              "  .colab-df-quickchart-complete:disabled,\n",
              "  .colab-df-quickchart-complete:disabled:hover {\n",
              "    background-color: var(--disabled-bg-color);\n",
              "    fill: var(--disabled-fill-color);\n",
              "    box-shadow: none;\n",
              "  }\n",
              "\n",
              "  .colab-df-spinner {\n",
              "    border: 2px solid var(--fill-color);\n",
              "    border-color: transparent;\n",
              "    border-bottom-color: var(--fill-color);\n",
              "    animation:\n",
              "      spin 1s steps(1) infinite;\n",
              "  }\n",
              "\n",
              "  @keyframes spin {\n",
              "    0% {\n",
              "      border-color: transparent;\n",
              "      border-bottom-color: var(--fill-color);\n",
              "      border-left-color: var(--fill-color);\n",
              "    }\n",
              "    20% {\n",
              "      border-color: transparent;\n",
              "      border-left-color: var(--fill-color);\n",
              "      border-top-color: var(--fill-color);\n",
              "    }\n",
              "    30% {\n",
              "      border-color: transparent;\n",
              "      border-left-color: var(--fill-color);\n",
              "      border-top-color: var(--fill-color);\n",
              "      border-right-color: var(--fill-color);\n",
              "    }\n",
              "    40% {\n",
              "      border-color: transparent;\n",
              "      border-right-color: var(--fill-color);\n",
              "      border-top-color: var(--fill-color);\n",
              "    }\n",
              "    60% {\n",
              "      border-color: transparent;\n",
              "      border-right-color: var(--fill-color);\n",
              "    }\n",
              "    80% {\n",
              "      border-color: transparent;\n",
              "      border-right-color: var(--fill-color);\n",
              "      border-bottom-color: var(--fill-color);\n",
              "    }\n",
              "    90% {\n",
              "      border-color: transparent;\n",
              "      border-bottom-color: var(--fill-color);\n",
              "    }\n",
              "  }\n",
              "</style>\n",
              "\n",
              "  <script>\n",
              "    async function quickchart(key) {\n",
              "      const quickchartButtonEl =\n",
              "        document.querySelector('#' + key + ' button');\n",
              "      quickchartButtonEl.disabled = true;  // To prevent multiple clicks.\n",
              "      quickchartButtonEl.classList.add('colab-df-spinner');\n",
              "      try {\n",
              "        const charts = await google.colab.kernel.invokeFunction(\n",
              "            'suggestCharts', [key], {});\n",
              "      } catch (error) {\n",
              "        console.error('Error during call to suggestCharts:', error);\n",
              "      }\n",
              "      quickchartButtonEl.classList.remove('colab-df-spinner');\n",
              "      quickchartButtonEl.classList.add('colab-df-quickchart-complete');\n",
              "    }\n",
              "    (() => {\n",
              "      let quickchartButtonEl =\n",
              "        document.querySelector('#df-47635e9d-7426-42cf-822f-a15c0b922857 button');\n",
              "      quickchartButtonEl.style.display =\n",
              "        google.colab.kernel.accessAllowed ? 'block' : 'none';\n",
              "    })();\n",
              "  </script>\n",
              "</div>\n",
              "    </div>\n",
              "  </div>\n"
            ]
          },
          "metadata": {},
          "execution_count": 169
        }
      ]
    },
    {
      "cell_type": "markdown",
      "source": [
        "## Identifying missing values in the dataset"
      ],
      "metadata": {
        "id": "MIGiZI7n2yWm"
      }
    },
    {
      "cell_type": "code",
      "source": [
        "NWMH_df.isnull().values.sum()"
      ],
      "metadata": {
        "colab": {
          "base_uri": "https://localhost:8080/"
        },
        "id": "5XPVap0s204H",
        "outputId": "0751c3a2-ade1-415c-9fd3-ff7eb37c9eb4"
      },
      "execution_count": 176,
      "outputs": [
        {
          "output_type": "execute_result",
          "data": {
            "text/plain": [
              "27466"
            ]
          },
          "metadata": {},
          "execution_count": 176
        }
      ]
    },
    {
      "cell_type": "markdown",
      "source": [
        "## Replacing all Missing Values With 0"
      ],
      "metadata": {
        "id": "eJcbOUHF32-_"
      }
    },
    {
      "cell_type": "code",
      "source": [
        "NWMH_df = NWMH_df.fillna(0)"
      ],
      "metadata": {
        "id": "mdDpanIJ4Edc"
      },
      "execution_count": 177,
      "outputs": []
    },
    {
      "cell_type": "markdown",
      "source": [
        "## Confirming there are no missing values"
      ],
      "metadata": {
        "id": "vxHyCzPS4Lsx"
      }
    },
    {
      "cell_type": "code",
      "source": [
        "NWMH_df.isnull().values.sum()"
      ],
      "metadata": {
        "colab": {
          "base_uri": "https://localhost:8080/"
        },
        "id": "PSy8i7qZ4SjS",
        "outputId": "3febb4b1-5080-4e7f-8b73-46664ec2645c"
      },
      "execution_count": 178,
      "outputs": [
        {
          "output_type": "execute_result",
          "data": {
            "text/plain": [
              "0"
            ]
          },
          "metadata": {},
          "execution_count": 178
        }
      ]
    },
    {
      "cell_type": "markdown",
      "source": [
        "## Data distribution using histograms for few coumns"
      ],
      "metadata": {
        "id": "00UXYAnW4cx9"
      }
    },
    {
      "cell_type": "code",
      "source": [
        "plt.figure(figsize=(8, 6))\n",
        "plt.hist(NWMH_df['Gross_Charge'], bins=20, edgecolor='black', alpha=0.7)\n",
        "plt.xlabel('Gross_Charge')\n",
        "plt.ylabel('Frequency')\n",
        "plt.title('Histogram of Gross_Charge')\n",
        "plt.grid()\n",
        "plt.show()"
      ],
      "metadata": {
        "colab": {
          "base_uri": "https://localhost:8080/",
          "height": 564
        },
        "id": "j_FW0wu84nAg",
        "outputId": "56fccb2d-eb68-42f5-c871-74e84c81a16c"
      },
      "execution_count": 183,
      "outputs": [
        {
          "output_type": "display_data",
          "data": {
            "text/plain": [
              "<Figure size 800x600 with 1 Axes>"
            ],
            "image/png": "[encoded data removed]"
          },
          "metadata": {}
        }
      ]
    },
    {
      "cell_type": "code",
      "source": [
        "plt.figure(figsize=(8, 6))\n",
        "plt.hist(NWMH_df['Discounted_Cash_Price'], bins=20, edgecolor='black', alpha=0.7)\n",
        "plt.xlabel('Discounted_Cash_Price')\n",
        "plt.ylabel('Frequency')\n",
        "plt.title('Histogram of Discounted_Cash_Price')\n",
        "plt.grid()\n",
        "plt.show()"
      ],
      "metadata": {
        "colab": {
          "base_uri": "https://localhost:8080/",
          "height": 564
        },
        "id": "WcWtVKfe5Xqd",
        "outputId": "b586b7de-f13d-4d67-9508-58c3f52fa41a"
      },
      "execution_count": 184,
      "outputs": [
        {
          "output_type": "display_data",
          "data": {
            "text/plain": [
              "<Figure size 800x600 with 1 Axes>"
            ],
            "image/png": "[encoded data removed]"
          },
          "metadata": {}
        }
      ]
    },
    {
      "cell_type": "code",
      "source": [
        "plt.figure(figsize=(8, 6))\n",
        "plt.hist(NWMH_df['Deidentified_Maximum_Negotiated_Charge'], bins=20, edgecolor='black', alpha=0.7)\n",
        "plt.xlabel('Deidentified_Maximum_Negotiated_Charge')\n",
        "plt.ylabel('Frequency')\n",
        "plt.title('Histogram of Deidentified_Maximum_Negotiated_Charge')\n",
        "plt.grid()\n",
        "plt.show()"
      ],
      "metadata": {
        "colab": {
          "base_uri": "https://localhost:8080/",
          "height": 564
        },
        "id": "d_ZNpSRk5j4z",
        "outputId": "36ae04ab-ab9d-4d66-90cf-2b25ccb53c64"
      },
      "execution_count": 185,
      "outputs": [
        {
          "output_type": "display_data",
          "data": {
            "text/plain": [
              "<Figure size 800x600 with 1 Axes>"
            ],
            "image/png": "[encoded data removed]"
          },
          "metadata": {}
        }
      ]
    },
    {
      "cell_type": "markdown",
      "source": [
        "## Calculating the Mean for specific columns"
      ],
      "metadata": {
        "id": "tQV25yXO57zI"
      }
    },
    {
      "cell_type": "code",
      "source": [
        "NWMH_df_description = NWMH_df.describe()\n",
        "print(NWMH_df_description)"
      ],
      "metadata": {
        "colab": {
          "base_uri": "https://localhost:8080/"
        },
        "id": "QgZsDhJK6CYT",
        "outputId": "716dca74-9da3-422d-c575-2d5dc3f5b117"
      },
      "execution_count": 186,
      "outputs": [
        {
          "output_type": "stream",
          "name": "stdout",
          "text": [
            "       Revenue_Code  Gross_Charge  Deidentified_Minimum_Negotiated_Charge  \\\n",
            "count   7157.000000  7.157000e+03                            7.157000e+03   \n",
            "mean     405.938242  1.492502e+04                            4.642318e+03   \n",
            "std      250.444340  4.898982e+04                            2.870639e+04   \n",
            "min        0.000000  4.400000e-01                            0.000000e+00   \n",
            "25%      274.000000  3.080000e+02                            4.509000e+01   \n",
            "50%      320.000000  1.286000e+03                            2.629800e+02   \n",
            "75%      481.000000  5.532000e+03                            1.248290e+03   \n",
            "max     1002.000000  1.163345e+06                            1.163345e+06   \n",
            "\n",
            "       Deidentified_Maximum_Negotiated_Charge  Discounted_Cash_Price  \\\n",
            "count                            7.157000e+03            7157.000000   \n",
            "mean                             1.098123e+04           10447.512216   \n",
            "std                              4.144487e+04           34292.875122   \n",
            "min                              4.400000e-01               0.310000   \n",
            "25%                              2.527500e+02             215.600000   \n",
            "50%                              9.664200e+02             900.200000   \n",
            "75%                              3.935000e+03            3872.400000   \n",
            "max                              1.163345e+06          814341.400000   \n",
            "\n",
            "       NMH AETNA [3004]  NMH AETNA BP [759]  NMH AETNA NAP [330]  \\\n",
            "count       7157.000000         7157.000000          7157.000000   \n",
            "mean        3411.495337         3454.416577          7149.805448   \n",
            "std        13714.178212        13977.872777         23111.640483   \n",
            "min            0.000000            0.000000             0.000000   \n",
            "25%            0.000000            0.000000             0.000000   \n",
            "50%          161.110000          144.300000           372.840000   \n",
            "75%         1209.600000         1077.600000          2801.760000   \n",
            "max       342410.810000       342410.810000        344195.940000   \n",
            "\n",
            "       NMH BCBS BLUECHOICE OPTIONS [725]  NMH BCBS BLUECHOICE PREFERRED [433]  \\\n",
            "count                        7157.000000                          7157.000000   \n",
            "mean                         4213.883831                          4105.235196   \n",
            "std                         25633.671428                         24450.961113   \n",
            "min                             0.000000                             0.000000   \n",
            "25%                             0.000000                             0.000000   \n",
            "50%                           134.260000                           134.260000   \n",
            "75%                          1014.930000                          1014.930000   \n",
            "max                        713121.400000                        713121.400000   \n",
            "\n",
            "       NMH BCBS PAR/INDEMNITY ADP [486]  NMH BCBS PPO [371]  \\\n",
            "count                      7.157000e+03         7157.000000   \n",
            "mean                       6.567241e+03         4751.615801   \n",
            "std                        3.248176e+04        23394.802972   \n",
            "min                        0.000000e+00            0.000000   \n",
            "25%                        0.000000e+00            0.000000   \n",
            "50%                        2.919000e+02          183.600000   \n",
            "75%                        2.195770e+03         1394.670000   \n",
            "max                        1.151493e+06       640745.640000   \n",
            "\n",
            "       NMH CIGNA ALTERNATIVE [664]  NMH CIGNA BROAD [663]  \\\n",
            "count                  7157.000000            7157.000000   \n",
            "mean                   3069.687179            4352.907344   \n",
            "std                   13298.240716           15515.792313   \n",
            "min                       0.000000               0.000000   \n",
            "25%                       0.000000               0.000000   \n",
            "50%                     116.180000             195.140000   \n",
            "75%                     867.240000            1679.930000   \n",
            "max                  332639.220000          332639.220000   \n",
            "\n",
            "       NMH CIGNA PLUS NM [680]  NMH HEALTH ALLIANCE [399]  NMH HUMANA [553]  \\\n",
            "count              7157.000000                 7157.00000       7157.000000   \n",
            "mean               2795.850165                 4117.19485       3784.831846   \n",
            "std               13081.854628                15500.84451      14362.597436   \n",
            "min                   0.000000                    0.00000          0.000000   \n",
            "25%                   0.000000                    0.00000          0.000000   \n",
            "50%                  42.550000                  133.32000        100.000000   \n",
            "75%                 484.740000                 1114.64000       1600.000000   \n",
            "max              332639.220000               332639.22000     332639.220000   \n",
            "\n",
            "       NMH UHC [419]  NMH UHC CORE [329]  \n",
            "count    7157.000000         7157.000000  \n",
            "mean     3823.211700         3634.422681  \n",
            "std     14536.208769        14124.297280  \n",
            "min         0.000000            0.000000  \n",
            "25%         0.000000            0.000000  \n",
            "50%        78.000000           73.000000  \n",
            "75%       966.730000          916.610000  \n",
            "max    332639.220000       332639.220000  \n"
          ]
        }
      ]
    },
    {
      "cell_type": "markdown",
      "source": [
        "## Calculating the Mode for specific Columns"
      ],
      "metadata": {
        "id": "9rx2HeEY7RW_"
      }
    },
    {
      "cell_type": "code",
      "source": [
        "mode_value_Gross_charge = NWMH_df['Gross_Charge'].mode().iloc[0]\n",
        "print(\"Mode Gross Charge:\", mode_value_Gross_charge)"
      ],
      "metadata": {
        "colab": {
          "base_uri": "https://localhost:8080/"
        },
        "id": "yanZA2pO7nVx",
        "outputId": "8bd0239b-80e7-455d-d0ab-00bb14a7eede"
      },
      "execution_count": 190,
      "outputs": [
        {
          "output_type": "stream",
          "name": "stdout",
          "text": [
            "Mode Gross Charge: 200.0\n"
          ]
        }
      ]
    },
    {
      "cell_type": "code",
      "source": [
        "mode_value_Discounted_Cash_Price = NWMH_df['Discounted_Cash_Price'].mode().iloc[0]\n",
        "print(\"Mode Discounted_Cash_Price:\", mode_value_Discounted_Cash_Price)"
      ],
      "metadata": {
        "colab": {
          "base_uri": "https://localhost:8080/"
        },
        "id": "mAoRf2mv7ym2",
        "outputId": "55153636-b5ae-4feb-e699-eed17e443653"
      },
      "execution_count": 191,
      "outputs": [
        {
          "output_type": "stream",
          "name": "stdout",
          "text": [
            "Mode Discounted_Cash_Price: 140.0\n"
          ]
        }
      ]
    },
    {
      "cell_type": "code",
      "source": [
        "mode_value_Deidentified_Maximum_Negotiated_Charge = NWMH_df['Deidentified_Maximum_Negotiated_Charge'].mode().iloc[0]\n",
        "print(\"Mode Deidentified_Maximum_Negotiated_Charge:\", mode_value_Deidentified_Maximum_Negotiated_Charge)"
      ],
      "metadata": {
        "colab": {
          "base_uri": "https://localhost:8080/"
        },
        "id": "sSalWLQ67zf2",
        "outputId": "e92271fc-9f97-476f-a94d-d08dfb460c0e"
      },
      "execution_count": 192,
      "outputs": [
        {
          "output_type": "stream",
          "name": "stdout",
          "text": [
            "Mode Deidentified_Maximum_Negotiated_Charge: 156.0\n"
          ]
        }
      ]
    },
    {
      "cell_type": "markdown",
      "source": [
        "## Calculating the Median for Specific Columns"
      ],
      "metadata": {
        "id": "7cZgUudp8rJ8"
      }
    },
    {
      "cell_type": "code",
      "source": [
        "median_value_Gross_Charge = NWMH_df['Gross_Charge'].median()\n",
        "print(\"Median Gross_Charge:\", median_value_Gross_Charge)"
      ],
      "metadata": {
        "colab": {
          "base_uri": "https://localhost:8080/"
        },
        "id": "s6xphYej89Vu",
        "outputId": "6dab4919-b637-45aa-a4ca-faddd7b39c63"
      },
      "execution_count": 193,
      "outputs": [
        {
          "output_type": "stream",
          "name": "stdout",
          "text": [
            "Median Gross_Charge: 1286.0\n"
          ]
        }
      ]
    },
    {
      "cell_type": "code",
      "source": [
        "median_value_Discounted_Cash_Price = NWMH_df['Discounted_Cash_Price'].median()\n",
        "print(\"Median Discounted_Cash_Price:\", median_value_Discounted_Cash_Price)"
      ],
      "metadata": {
        "colab": {
          "base_uri": "https://localhost:8080/"
        },
        "id": "ZgTO7dFs9Zer",
        "outputId": "10b6581f-edc8-42a0-ff26-33dda58216d5"
      },
      "execution_count": 194,
      "outputs": [
        {
          "output_type": "stream",
          "name": "stdout",
          "text": [
            "Median Discounted_Cash_Price: 900.2\n"
          ]
        }
      ]
    },
    {
      "cell_type": "code",
      "source": [
        "median_value_Deidentified_Maximum_Negotiated_Charge = NWMH_df['Deidentified_Maximum_Negotiated_Charge'].median()\n",
        "print(\"Median Deidentified_Maximum_Negotiated_Charge:\", median_value_Deidentified_Maximum_Negotiated_Charge)"
      ],
      "metadata": {
        "colab": {
          "base_uri": "https://localhost:8080/"
        },
        "id": "IxFr48qi9jte",
        "outputId": "584f6583-4c01-41ea-ee00-c5d3a078a272"
      },
      "execution_count": 195,
      "outputs": [
        {
          "output_type": "stream",
          "name": "stdout",
          "text": [
            "Median Deidentified_Maximum_Negotiated_Charge: 966.42\n"
          ]
        }
      ]
    },
    {
      "cell_type": "markdown",
      "source": [
        "## Calculating the Range for Specific Column"
      ],
      "metadata": {
        "id": "EKDUyk2S94GG"
      }
    },
    {
      "cell_type": "code",
      "source": [
        "data_range_Gross_Charge = NWMH_df['Gross_Charge'].max() - NWMH_df['Gross_Charge'].min()\n",
        "print(\"Data Range (Gross_Charge):\", data_range_Gross_Charge)"
      ],
      "metadata": {
        "colab": {
          "base_uri": "https://localhost:8080/"
        },
        "id": "i-8dYAmR96qd",
        "outputId": "f013c7e9-3c19-4da7-8ec3-a51e75357107"
      },
      "execution_count": 196,
      "outputs": [
        {
          "output_type": "stream",
          "name": "stdout",
          "text": [
            "Data Range (Gross_Charge): 1163344.4100000001\n"
          ]
        }
      ]
    },
    {
      "cell_type": "code",
      "source": [
        "data_range_Discounted_Cash_Price = NWMH_df['Discounted_Cash_Price'].max() - NWMH_df['Discounted_Cash_Price'].min()\n",
        "print(\"Data Range (Discounted_Cash_Price):\", data_range_Discounted_Cash_Price)"
      ],
      "metadata": {
        "colab": {
          "base_uri": "https://localhost:8080/"
        },
        "id": "pbkwsUM--OAZ",
        "outputId": "27c7ef28-a59a-471d-d07e-fdc784fb8461"
      },
      "execution_count": 197,
      "outputs": [
        {
          "output_type": "stream",
          "name": "stdout",
          "text": [
            "Data Range (Discounted_Cash_Price): 814341.09\n"
          ]
        }
      ]
    },
    {
      "cell_type": "code",
      "source": [
        "data_range_Deidentified_Maximum_Negotiated_Charge = NWMH_df['Deidentified_Maximum_Negotiated_Charge'].max() - NWMH_df['Deidentified_Maximum_Negotiated_Charge'].min()\n",
        "print(\"Data Range (Deidentified_Maximum_Negotiated_Charge):\", data_range_Deidentified_Maximum_Negotiated_Charge)"
      ],
      "metadata": {
        "colab": {
          "base_uri": "https://localhost:8080/"
        },
        "id": "vBS-utm4-WpF",
        "outputId": "ce260fd6-f797-4dfe-844f-b28d8b5b92d5"
      },
      "execution_count": 198,
      "outputs": [
        {
          "output_type": "stream",
          "name": "stdout",
          "text": [
            "Data Range (Deidentified_Maximum_Negotiated_Charge): 1163344.4100000001\n"
          ]
        }
      ]
    },
    {
      "cell_type": "markdown",
      "source": [
        "## Calculating the Variance for Specific Coulmns"
      ],
      "metadata": {
        "id": "PikfoBEJ_G9K"
      }
    },
    {
      "cell_type": "code",
      "source": [
        "variance_Gross_Charge = np.var(NWMH_df['Gross_Charge'])\n",
        "print(\"Variance Gross_Charge:\", variance_Gross_Charge)"
      ],
      "metadata": {
        "colab": {
          "base_uri": "https://localhost:8080/"
        },
        "id": "JkJLlYWZ_dSd",
        "outputId": "bd68d8bd-7828-4698-f363-9d831a5f7419"
      },
      "execution_count": 200,
      "outputs": [
        {
          "output_type": "stream",
          "name": "stdout",
          "text": [
            "Variance Gross_Charge: 2399667266.417875\n"
          ]
        }
      ]
    },
    {
      "cell_type": "code",
      "source": [
        "variance_Discounted_Cash_Price  = np.var(NWMH_df['Discounted_Cash_Price'])\n",
        "print(\"Variance Discounted_Cash_Price :\", variance_Discounted_Cash_Price)"
      ],
      "metadata": {
        "colab": {
          "base_uri": "https://localhost:8080/"
        },
        "id": "CzzPuPxg_vv0",
        "outputId": "833ed7c5-3a21-459a-eec8-524b851d64e2"
      },
      "execution_count": 202,
      "outputs": [
        {
          "output_type": "stream",
          "name": "stdout",
          "text": [
            "Variance Discounted_Cash_Price : 1175836969.2737792\n"
          ]
        }
      ]
    },
    {
      "cell_type": "code",
      "source": [
        "variance_Deidentified_Maximum_Negotiated_Charge = np.var(NWMH_df['Deidentified_Maximum_Negotiated_Charge'])\n",
        "print(\"Deidentified_Maximum_Negotiated_Charge:\", variance_Deidentified_Maximum_Negotiated_Charge)"
      ],
      "metadata": {
        "colab": {
          "base_uri": "https://localhost:8080/"
        },
        "id": "riN6tuLi_wdH",
        "outputId": "35948e26-c9be-40a2-f86d-52a7e996d28d"
      },
      "execution_count": 203,
      "outputs": [
        {
          "output_type": "stream",
          "name": "stdout",
          "text": [
            "Deidentified_Maximum_Negotiated_Charge: 1717437155.5904357\n"
          ]
        }
      ]
    },
    {
      "cell_type": "markdown",
      "source": [
        "## Calculating the Standard Deviation for Specific Column"
      ],
      "metadata": {
        "id": "9p0I5FpeAvPE"
      }
    },
    {
      "cell_type": "code",
      "source": [
        "std_deviation_Gross_Charge = np.std(NWMH_df['Gross_Charge'])\n",
        "print(\"Standard Deviation Gross charge:\", std_deviation_Gross_Charge)"
      ],
      "metadata": {
        "colab": {
          "base_uri": "https://localhost:8080/"
        },
        "id": "sGXIUGoOAyBZ",
        "outputId": "a74f4559-ec9f-4fcb-8a1b-782a8a5e6b90"
      },
      "execution_count": 205,
      "outputs": [
        {
          "output_type": "stream",
          "name": "stdout",
          "text": [
            "Standard Deviation Gross charge: 48986.39879005064\n"
          ]
        }
      ]
    },
    {
      "cell_type": "code",
      "source": [
        "std_deviation_Discounted_Cash_Price = np.std(NWMH_df['Discounted_Cash_Price'])\n",
        "print(\"Standard Deviation Discounted_Cash_Price:\", std_deviation_Discounted_Cash_Price)"
      ],
      "metadata": {
        "colab": {
          "base_uri": "https://localhost:8080/"
        },
        "id": "zm0YWwrXBAiD",
        "outputId": "03803f20-4c59-44e0-fc9f-c8076e2561b4"
      },
      "execution_count": 206,
      "outputs": [
        {
          "output_type": "stream",
          "name": "stdout",
          "text": [
            "Standard Deviation Discounted_Cash_Price: 34290.47928031597\n"
          ]
        }
      ]
    },
    {
      "cell_type": "code",
      "source": [
        "std_deviation_Deidentified_Maximum_Negotiated_Charge = np.std(NWMH_df['Deidentified_Maximum_Negotiated_Charge'])\n",
        "print(\"Standard Deviation Deidentified_Maximum_Negotiated_Charge:\", std_deviation_Deidentified_Maximum_Negotiated_Charge)"
      ],
      "metadata": {
        "colab": {
          "base_uri": "https://localhost:8080/"
        },
        "id": "7TufNip4BAob",
        "outputId": "54975e4f-3eec-4790-ee3a-60dc48bfc262"
      },
      "execution_count": 207,
      "outputs": [
        {
          "output_type": "stream",
          "name": "stdout",
          "text": [
            "Standard Deviation Deidentified_Maximum_Negotiated_Charge: 41441.97335540908\n"
          ]
        }
      ]
    },
    {
      "cell_type": "markdown",
      "source": [
        "## Frequency counts for categorical variables"
      ],
      "metadata": {
        "id": "B5wygng0Bexz"
      }
    },
    {
      "cell_type": "code",
      "source": [
        "NWMH_df['Billing_Code'].value_counts()"
      ],
      "metadata": {
        "colab": {
          "base_uri": "https://localhost:8080/"
        },
        "id": "Ko6-GvzcBgtK",
        "outputId": "ed1fd9de-943c-4652-d573-f1c68c2ac08b"
      },
      "execution_count": 208,
      "outputs": [
        {
          "output_type": "execute_result",
          "data": {
            "text/plain": [
              "CPT® 86341                  7\n",
              "CPT® 90853                  5\n",
              "HCPCS A4648                 5\n",
              "Custom 36100775             4\n",
              "CPT® 49999                  4\n",
              "                           ..\n",
              "CPT® 85396                  1\n",
              "CPT® 85397                  1\n",
              "CPT® 85410                  1\n",
              "CPT® 85415                  1\n",
              "MS-DRG V40 (FY 2023) 999    1\n",
              "Name: Billing_Code, Length: 5508, dtype: int64"
            ]
          },
          "metadata": {},
          "execution_count": 208
        }
      ]
    },
    {
      "cell_type": "code",
      "source": [
        "NWMH_df['Service_Description'].value_counts()"
      ],
      "metadata": {
        "colab": {
          "base_uri": "https://localhost:8080/"
        },
        "id": "aHT1JxvwBgzY",
        "outputId": "2e5786b3-72f9-465b-d1d1-e33e6f6d3bd2"
      },
      "execution_count": 210,
      "outputs": [
        {
          "output_type": "execute_result",
          "data": {
            "text/plain": [
              "PLACE CATHETER IN ARTERY                                                      13\n",
              "TREAT FINGER FRACTURE EACH                                                    12\n",
              "SMALL BOWEL ENDOSCOPY                                                         12\n",
              "INJECTION TREATMENT OF NERVE                                                   9\n",
              "TREATMENT OF ANKLE FRACTURE                                                    9\n",
              "                                                                              ..\n",
              "DETECTION OF ENDOMYSIAL ANTIBODY (EMA)                                         1\n",
              "SCREENING TEST FOR ANTIBODY TO NONINFECTIOUS AGENT                             1\n",
              "HB REF MYASTHENIA GRAVIS PANEL, REFLEX STRIATED MUSCLE AB TITER (Q)            1\n",
              "IMMUNOLOGIC ANALYSIS FOR DETECTION OF TUMOR ANTIGEN, QUANTITATIVE; CA 15-3     1\n",
              "UNGROUPABLE                                                                    1\n",
              "Name: Service_Description, Length: 5258, dtype: int64"
            ]
          },
          "metadata": {},
          "execution_count": 210
        }
      ]
    },
    {
      "cell_type": "markdown",
      "source": [
        "# sqlite3"
      ],
      "metadata": {
        "id": "Jawos4sUGRiE"
      }
    },
    {
      "cell_type": "markdown",
      "source": [
        "## Creating a sqlite3 Connection"
      ],
      "metadata": {
        "id": "_uHZKCpOzM81"
      }
    },
    {
      "cell_type": "code",
      "source": [
        "connection = sqlite3.connect('health.db')\n",
        "cursor = connection.cursor()"
      ],
      "metadata": {
        "id": "AvF84A6kmTXW"
      },
      "execution_count": 170,
      "outputs": []
    },
    {
      "cell_type": "markdown",
      "source": [
        "## Creating a Table for Patient Information"
      ],
      "metadata": {
        "id": "raZ60fgszX3Z"
      }
    },
    {
      "cell_type": "code",
      "source": [
        "cursor.execute('''CREATE TABLE PatientInformation (id INT, DOB TEXT, age INT, gender TEXT, zipcode TEXT)''')"
      ],
      "metadata": {
        "colab": {
          "base_uri": "https://localhost:8080/"
        },
        "id": "RMpI0aOvmovS",
        "outputId": "f6517f14-b5ca-4352-e549-d247666b9e15"
      },
      "execution_count": 171,
      "outputs": [
        {
          "output_type": "execute_result",
          "data": {
            "text/plain": [
              "<sqlite3.Cursor at 0x7a58510339c0>"
            ]
          },
          "metadata": {},
          "execution_count": 171
        }
      ]
    },
    {
      "cell_type": "markdown",
      "source": [
        "## Inserting 2 rows of fake data"
      ],
      "metadata": {
        "id": "VFUD48AZzk0f"
      }
    },
    {
      "cell_type": "code",
      "source": [
        "cursor.execute('INSERT INTO PatientInformation (id, DOB, age, gender, zipcode) VALUES (1, \"01-01-1998\", 25, \"Male\", \"87048\")')"
      ],
      "metadata": {
        "colab": {
          "base_uri": "https://localhost:8080/"
        },
        "id": "c5NjT5HauxQ-",
        "outputId": "dbeae4d9-629b-4acf-d374-a9f3abb71173"
      },
      "execution_count": 172,
      "outputs": [
        {
          "output_type": "execute_result",
          "data": {
            "text/plain": [
              "<sqlite3.Cursor at 0x7a58510339c0>"
            ]
          },
          "metadata": {},
          "execution_count": 172
        }
      ]
    },
    {
      "cell_type": "code",
      "source": [
        "cursor.execute('INSERT INTO PatientInformation (id, DOB, age, gender, zipcode) VALUES (2, \"03-08-1994\", 29, \"Female\", \"\t78634\")')"
      ],
      "metadata": {
        "colab": {
          "base_uri": "https://localhost:8080/"
        },
        "id": "ti5rSzgiwV7r",
        "outputId": "6b39d90d-cd1b-4bb3-cbaf-571e96d0a055"
      },
      "execution_count": 173,
      "outputs": [
        {
          "output_type": "execute_result",
          "data": {
            "text/plain": [
              "<sqlite3.Cursor at 0x7a58510339c0>"
            ]
          },
          "metadata": {},
          "execution_count": 173
        }
      ]
    },
    {
      "cell_type": "markdown",
      "source": [
        "## Inserting data frame data into sql"
      ],
      "metadata": {
        "id": "czbWlYpGzsgG"
      }
    },
    {
      "cell_type": "code",
      "source": [
        "SB_df.to_sql('Stony_Brook_Standard_Charges',\n",
        "               con = connection)"
      ],
      "metadata": {
        "colab": {
          "base_uri": "https://localhost:8080/"
        },
        "id": "Cq2vxO9LxL7S",
        "outputId": "e7943fc5-e897-496a-bc81-39369e979f48"
      },
      "execution_count": 174,
      "outputs": [
        {
          "output_type": "execute_result",
          "data": {
            "text/plain": [
              "7710"
            ]
          },
          "metadata": {},
          "execution_count": 174
        }
      ]
    },
    {
      "cell_type": "markdown",
      "source": [
        "## Inserting data frame data into sql"
      ],
      "metadata": {
        "id": "8lZeZtDpz3dJ"
      }
    },
    {
      "cell_type": "code",
      "source": [
        "NWMH_df.to_sql('Northwestern_Memorial_Hospital_Standard_Charges',\n",
        "               con = connection)"
      ],
      "metadata": {
        "colab": {
          "base_uri": "https://localhost:8080/"
        },
        "id": "5b6RQU3Txwfl",
        "outputId": "4da62139-56f1-41f7-d86d-06e43d128fac"
      },
      "execution_count": 175,
      "outputs": [
        {
          "output_type": "execute_result",
          "data": {
            "text/plain": [
              "7157"
            ]
          },
          "metadata": {},
          "execution_count": 175
        }
      ]
    }
  ]
}